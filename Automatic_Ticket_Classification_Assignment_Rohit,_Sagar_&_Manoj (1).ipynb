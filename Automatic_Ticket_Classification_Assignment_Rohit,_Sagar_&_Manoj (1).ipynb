{
 "cells": [
  {
   "cell_type": "markdown",
   "metadata": {},
   "source": [
    "# NLP Case Study - Automatic Ticket Classification"
   ]
  },
  {
   "cell_type": "markdown",
   "metadata": {
    "id": "rhR-ZUkwJrFn"
   },
   "source": [
    "## Problem Statement \n",
    "\n",
    "You need to build a model that is able to classify customer complaints based on the products/services. By doing so, you can segregate these tickets into their relevant categories and, therefore, help in the quick resolution of the issue.\n",
    "\n",
    "You will be doing topic modelling on the <b>.json</b> data provided by the company. Since this data is not labelled, you need to apply NMF to analyse patterns and classify tickets into the following five clusters based on their products/services:\n",
    "\n",
    "* Credit card / Prepaid card\n",
    "\n",
    "* Bank account services\n",
    "\n",
    "* Theft/Dispute reporting\n",
    "\n",
    "* Mortgages/loans\n",
    "\n",
    "* Others \n",
    "\n",
    "\n",
    "With the help of topic modelling, you will be able to map each ticket onto its respective department/category. You can then use this data to train any supervised model such as logistic regression, decision tree or random forest. Using this trained model, you can classify any new customer complaint support ticket into its relevant department."
   ]
  },
  {
   "cell_type": "markdown",
   "metadata": {
    "id": "mcgXVNyaLUFS"
   },
   "source": [
    "## Pipelines that needs to be performed:\n",
    "\n",
    "You need to perform the following eight major tasks to complete the assignment:\n",
    "\n",
    "1.  Data loading\n",
    "\n",
    "2. Text preprocessing\n",
    "\n",
    "3. Exploratory data analysis (EDA)\n",
    "\n",
    "4. Feature extraction\n",
    "\n",
    "5. Topic modelling \n",
    "\n",
    "6. Model building using supervised learning\n",
    "\n",
    "7. Model training and evaluation\n",
    "\n",
    "8. Model inference"
   ]
  },
  {
   "cell_type": "markdown",
   "metadata": {
    "id": "JuLFIymAL58u"
   },
   "source": [
    "## Importing the necessary libraries"
   ]
  },
  {
   "cell_type": "code",
   "execution_count": 1,
   "metadata": {
    "id": "O-Q9pqrcJrFr"
   },
   "outputs": [],
   "source": [
    "import json \n",
    "import numpy as np\n",
    "import pandas as pd\n",
    "import re\n",
    "import nltk \n",
    "import spacy\n",
    "import string\n",
    "import en_core_web_sm\n",
    "nlp = en_core_web_sm.load()\n",
    "import seaborn as sns\n",
    "import matplotlib.pyplot as plt\n",
    "%matplotlib inline\n",
    "from plotly.offline import plot\n",
    "import plotly.graph_objects as go\n",
    "import plotly.express as px\n",
    "import pickle\n",
    "\n",
    "from textblob import TextBlob\n",
    "from wordcloud import WordCloud, STOPWORDS\n",
    "\n",
    "from sklearn.feature_extraction.text import CountVectorizer, TfidfVectorizer, TfidfTransformer\n",
    "from sklearn.decomposition import NMF\n",
    "from nltk.stem import WordNetLemmatizer\n",
    "from nltk.tokenize import word_tokenize\n",
    "\n",
    "from sklearn.naive_bayes import MultinomialNB\n",
    "from sklearn.linear_model import LogisticRegression\n",
    "from sklearn.tree import DecisionTreeClassifier\n",
    "from sklearn.ensemble import RandomForestClassifier\n",
    "from sklearn.svm import SVC\n",
    "from xgboost import XGBClassifier\n",
    "from catboost import CatBoostClassifier\n",
    "\n",
    "from sklearn.model_selection import train_test_split, cross_val_score\n",
    "from sklearn.model_selection import RandomizedSearchCV, GridSearchCV\n",
    "from sklearn.metrics import confusion_matrix, classification_report\n",
    "from sklearn.metrics import precision_score, recall_score, f1_score\n",
    "from sklearn.metrics import RocCurveDisplay\n",
    "from pprint import pprint"
   ]
  },
  {
   "cell_type": "code",
   "execution_count": 2,
   "metadata": {},
   "outputs": [],
   "source": [
    "# to suppress the warnings\n",
    "import warnings\n",
    "warnings.filterwarnings(\"ignore\")"
   ]
  },
  {
   "cell_type": "markdown",
   "metadata": {
    "id": "KtRLCsNVJrFt"
   },
   "source": [
    "## Loading the data\n",
    "\n",
    "The data is in JSON format and we need to convert it to a dataframe."
   ]
  },
  {
   "cell_type": "code",
   "execution_count": 3,
   "metadata": {
    "id": "puVzIf_iJrFt"
   },
   "outputs": [],
   "source": [
    "# Opening JSON file \n",
    "f = r\"C:\\Users\\hp\\Downloads\\complaints-2021-05-14_08_16.json\"\n",
    "\n",
    "# returns JSON object as  \n",
    "# a dictionary \n",
    "with open(f, \"r\", encoding=\"utf-8\") as file:\n",
    "    data = json.load(file)\n",
    "df=pd.json_normalize(data)"
   ]
  },
  {
   "cell_type": "markdown",
   "metadata": {
    "id": "_xYpH-sAJrFu"
   },
   "source": [
    "## Data preparation"
   ]
  },
  {
   "cell_type": "code",
   "execution_count": 4,
   "metadata": {
    "id": "Lf8ufHH5JrFu",
    "scrolled": true
   },
   "outputs": [
    {
     "data": {
      "text/html": [
       "<div>\n",
       "<style scoped>\n",
       "    .dataframe tbody tr th:only-of-type {\n",
       "        vertical-align: middle;\n",
       "    }\n",
       "\n",
       "    .dataframe tbody tr th {\n",
       "        vertical-align: top;\n",
       "    }\n",
       "\n",
       "    .dataframe thead th {\n",
       "        text-align: right;\n",
       "    }\n",
       "</style>\n",
       "<table border=\"1\" class=\"dataframe\">\n",
       "  <thead>\n",
       "    <tr style=\"text-align: right;\">\n",
       "      <th></th>\n",
       "      <th>_index</th>\n",
       "      <th>_type</th>\n",
       "      <th>_id</th>\n",
       "      <th>_score</th>\n",
       "      <th>_source.tags</th>\n",
       "      <th>_source.zip_code</th>\n",
       "      <th>_source.complaint_id</th>\n",
       "      <th>_source.issue</th>\n",
       "      <th>_source.date_received</th>\n",
       "      <th>_source.state</th>\n",
       "      <th>...</th>\n",
       "      <th>_source.company_response</th>\n",
       "      <th>_source.company</th>\n",
       "      <th>_source.submitted_via</th>\n",
       "      <th>_source.date_sent_to_company</th>\n",
       "      <th>_source.company_public_response</th>\n",
       "      <th>_source.sub_product</th>\n",
       "      <th>_source.timely</th>\n",
       "      <th>_source.complaint_what_happened</th>\n",
       "      <th>_source.sub_issue</th>\n",
       "      <th>_source.consumer_consent_provided</th>\n",
       "    </tr>\n",
       "  </thead>\n",
       "  <tbody>\n",
       "    <tr>\n",
       "      <th>0</th>\n",
       "      <td>complaint-public-v2</td>\n",
       "      <td>complaint</td>\n",
       "      <td>3211475</td>\n",
       "      <td>0.0</td>\n",
       "      <td>None</td>\n",
       "      <td>90301</td>\n",
       "      <td>3211475</td>\n",
       "      <td>Attempts to collect debt not owed</td>\n",
       "      <td>2019-04-13T12:00:00-05:00</td>\n",
       "      <td>CA</td>\n",
       "      <td>...</td>\n",
       "      <td>Closed with explanation</td>\n",
       "      <td>JPMORGAN CHASE &amp; CO.</td>\n",
       "      <td>Web</td>\n",
       "      <td>2019-04-13T12:00:00-05:00</td>\n",
       "      <td>None</td>\n",
       "      <td>Credit card debt</td>\n",
       "      <td>Yes</td>\n",
       "      <td></td>\n",
       "      <td>Debt is not yours</td>\n",
       "      <td>Consent not provided</td>\n",
       "    </tr>\n",
       "    <tr>\n",
       "      <th>1</th>\n",
       "      <td>complaint-public-v2</td>\n",
       "      <td>complaint</td>\n",
       "      <td>3229299</td>\n",
       "      <td>0.0</td>\n",
       "      <td>Servicemember</td>\n",
       "      <td>319XX</td>\n",
       "      <td>3229299</td>\n",
       "      <td>Written notification about debt</td>\n",
       "      <td>2019-05-01T12:00:00-05:00</td>\n",
       "      <td>GA</td>\n",
       "      <td>...</td>\n",
       "      <td>Closed with explanation</td>\n",
       "      <td>JPMORGAN CHASE &amp; CO.</td>\n",
       "      <td>Web</td>\n",
       "      <td>2019-05-01T12:00:00-05:00</td>\n",
       "      <td>None</td>\n",
       "      <td>Credit card debt</td>\n",
       "      <td>Yes</td>\n",
       "      <td>Good morning my name is XXXX XXXX and I apprec...</td>\n",
       "      <td>Didn't receive enough information to verify debt</td>\n",
       "      <td>Consent provided</td>\n",
       "    </tr>\n",
       "    <tr>\n",
       "      <th>2</th>\n",
       "      <td>complaint-public-v2</td>\n",
       "      <td>complaint</td>\n",
       "      <td>3199379</td>\n",
       "      <td>0.0</td>\n",
       "      <td>None</td>\n",
       "      <td>77069</td>\n",
       "      <td>3199379</td>\n",
       "      <td>Other features, terms, or problems</td>\n",
       "      <td>2019-04-02T12:00:00-05:00</td>\n",
       "      <td>TX</td>\n",
       "      <td>...</td>\n",
       "      <td>Closed with explanation</td>\n",
       "      <td>JPMORGAN CHASE &amp; CO.</td>\n",
       "      <td>Web</td>\n",
       "      <td>2019-04-02T12:00:00-05:00</td>\n",
       "      <td>None</td>\n",
       "      <td>General-purpose credit card or charge card</td>\n",
       "      <td>Yes</td>\n",
       "      <td>I upgraded my XXXX XXXX card in XX/XX/2018 and...</td>\n",
       "      <td>Problem with rewards from credit card</td>\n",
       "      <td>Consent provided</td>\n",
       "    </tr>\n",
       "    <tr>\n",
       "      <th>3</th>\n",
       "      <td>complaint-public-v2</td>\n",
       "      <td>complaint</td>\n",
       "      <td>2673060</td>\n",
       "      <td>0.0</td>\n",
       "      <td>None</td>\n",
       "      <td>48066</td>\n",
       "      <td>2673060</td>\n",
       "      <td>Trouble during payment process</td>\n",
       "      <td>2017-09-13T12:00:00-05:00</td>\n",
       "      <td>MI</td>\n",
       "      <td>...</td>\n",
       "      <td>Closed with explanation</td>\n",
       "      <td>JPMORGAN CHASE &amp; CO.</td>\n",
       "      <td>Web</td>\n",
       "      <td>2017-09-14T12:00:00-05:00</td>\n",
       "      <td>None</td>\n",
       "      <td>Conventional home mortgage</td>\n",
       "      <td>Yes</td>\n",
       "      <td></td>\n",
       "      <td>None</td>\n",
       "      <td>Consent not provided</td>\n",
       "    </tr>\n",
       "    <tr>\n",
       "      <th>4</th>\n",
       "      <td>complaint-public-v2</td>\n",
       "      <td>complaint</td>\n",
       "      <td>3203545</td>\n",
       "      <td>0.0</td>\n",
       "      <td>None</td>\n",
       "      <td>10473</td>\n",
       "      <td>3203545</td>\n",
       "      <td>Fees or interest</td>\n",
       "      <td>2019-04-05T12:00:00-05:00</td>\n",
       "      <td>NY</td>\n",
       "      <td>...</td>\n",
       "      <td>Closed with explanation</td>\n",
       "      <td>JPMORGAN CHASE &amp; CO.</td>\n",
       "      <td>Referral</td>\n",
       "      <td>2019-04-05T12:00:00-05:00</td>\n",
       "      <td>None</td>\n",
       "      <td>General-purpose credit card or charge card</td>\n",
       "      <td>Yes</td>\n",
       "      <td></td>\n",
       "      <td>Charged too much interest</td>\n",
       "      <td>N/A</td>\n",
       "    </tr>\n",
       "  </tbody>\n",
       "</table>\n",
       "<p>5 rows × 22 columns</p>\n",
       "</div>"
      ],
      "text/plain": [
       "                _index      _type      _id  _score   _source.tags  \\\n",
       "0  complaint-public-v2  complaint  3211475     0.0           None   \n",
       "1  complaint-public-v2  complaint  3229299     0.0  Servicemember   \n",
       "2  complaint-public-v2  complaint  3199379     0.0           None   \n",
       "3  complaint-public-v2  complaint  2673060     0.0           None   \n",
       "4  complaint-public-v2  complaint  3203545     0.0           None   \n",
       "\n",
       "  _source.zip_code _source.complaint_id                       _source.issue  \\\n",
       "0            90301              3211475   Attempts to collect debt not owed   \n",
       "1            319XX              3229299     Written notification about debt   \n",
       "2            77069              3199379  Other features, terms, or problems   \n",
       "3            48066              2673060      Trouble during payment process   \n",
       "4            10473              3203545                    Fees or interest   \n",
       "\n",
       "       _source.date_received _source.state  ... _source.company_response  \\\n",
       "0  2019-04-13T12:00:00-05:00            CA  ...  Closed with explanation   \n",
       "1  2019-05-01T12:00:00-05:00            GA  ...  Closed with explanation   \n",
       "2  2019-04-02T12:00:00-05:00            TX  ...  Closed with explanation   \n",
       "3  2017-09-13T12:00:00-05:00            MI  ...  Closed with explanation   \n",
       "4  2019-04-05T12:00:00-05:00            NY  ...  Closed with explanation   \n",
       "\n",
       "        _source.company _source.submitted_via _source.date_sent_to_company  \\\n",
       "0  JPMORGAN CHASE & CO.                   Web    2019-04-13T12:00:00-05:00   \n",
       "1  JPMORGAN CHASE & CO.                   Web    2019-05-01T12:00:00-05:00   \n",
       "2  JPMORGAN CHASE & CO.                   Web    2019-04-02T12:00:00-05:00   \n",
       "3  JPMORGAN CHASE & CO.                   Web    2017-09-14T12:00:00-05:00   \n",
       "4  JPMORGAN CHASE & CO.              Referral    2019-04-05T12:00:00-05:00   \n",
       "\n",
       "  _source.company_public_response                         _source.sub_product  \\\n",
       "0                            None                            Credit card debt   \n",
       "1                            None                            Credit card debt   \n",
       "2                            None  General-purpose credit card or charge card   \n",
       "3                            None                  Conventional home mortgage   \n",
       "4                            None  General-purpose credit card or charge card   \n",
       "\n",
       "  _source.timely                    _source.complaint_what_happened  \\\n",
       "0            Yes                                                      \n",
       "1            Yes  Good morning my name is XXXX XXXX and I apprec...   \n",
       "2            Yes  I upgraded my XXXX XXXX card in XX/XX/2018 and...   \n",
       "3            Yes                                                      \n",
       "4            Yes                                                      \n",
       "\n",
       "                                  _source.sub_issue  \\\n",
       "0                                 Debt is not yours   \n",
       "1  Didn't receive enough information to verify debt   \n",
       "2             Problem with rewards from credit card   \n",
       "3                                              None   \n",
       "4                         Charged too much interest   \n",
       "\n",
       "  _source.consumer_consent_provided  \n",
       "0              Consent not provided  \n",
       "1                  Consent provided  \n",
       "2                  Consent provided  \n",
       "3              Consent not provided  \n",
       "4                               N/A  \n",
       "\n",
       "[5 rows x 22 columns]"
      ]
     },
     "execution_count": 4,
     "metadata": {},
     "output_type": "execute_result"
    }
   ],
   "source": [
    "# Inspect the dataframe to understand the given data.\n",
    "\n",
    "df.head()"
   ]
  },
  {
   "cell_type": "code",
   "execution_count": 5,
   "metadata": {},
   "outputs": [
    {
     "data": {
      "text/plain": [
       "(78313, 22)"
      ]
     },
     "execution_count": 5,
     "metadata": {},
     "output_type": "execute_result"
    }
   ],
   "source": [
    "#checking the shape of the dataframe\n",
    "\n",
    "df.shape"
   ]
  },
  {
   "cell_type": "markdown",
   "metadata": {},
   "source": [
    "#### The Dataset has 78313 customner complaints and 22 features"
   ]
  },
  {
   "cell_type": "code",
   "execution_count": 6,
   "metadata": {
    "id": "Dwcty-wmJrFw"
   },
   "outputs": [
    {
     "data": {
      "text/plain": [
       "['_index',\n",
       " '_type',\n",
       " '_id',\n",
       " '_score',\n",
       " '_source.tags',\n",
       " '_source.zip_code',\n",
       " '_source.complaint_id',\n",
       " '_source.issue',\n",
       " '_source.date_received',\n",
       " '_source.state',\n",
       " '_source.consumer_disputed',\n",
       " '_source.product',\n",
       " '_source.company_response',\n",
       " '_source.company',\n",
       " '_source.submitted_via',\n",
       " '_source.date_sent_to_company',\n",
       " '_source.company_public_response',\n",
       " '_source.sub_product',\n",
       " '_source.timely',\n",
       " '_source.complaint_what_happened',\n",
       " '_source.sub_issue',\n",
       " '_source.consumer_consent_provided']"
      ]
     },
     "execution_count": 6,
     "metadata": {},
     "output_type": "execute_result"
    }
   ],
   "source": [
    "#print the column names\n",
    "\n",
    "list(df.columns)"
   ]
  },
  {
   "cell_type": "code",
   "execution_count": 7,
   "metadata": {
    "id": "FYCtKXD1JrFw"
   },
   "outputs": [],
   "source": [
    "#Assign new column names\n",
    "\n",
    "df.columns = [\"index\", \"type\", \"id\", \"score\", \"tags\", \"zip_code\",\"complaint_id\", \"issue\", \"date_received\",\n",
    "       \"state\", \"consumer_disputed\", \"product\",\"company_response\", \"company\", \"submitted_via\",\n",
    "       \"date_sent_to_company\", \"company_public_response\",\"sub_product\", \"timely\",\n",
    "       \"complaint_what_happened\", \"sub_issue\",\"consumer_consent_provided\"]"
   ]
  },
  {
   "cell_type": "code",
   "execution_count": 8,
   "metadata": {
    "id": "grQUPFL5JrFx"
   },
   "outputs": [],
   "source": [
    "#Assign nan in place of blanks in the complaints column\n",
    "df[df.loc[:, 'complaint_what_happened'] == ''] = np.nan\n",
    "\n",
    "#Remove all rows where complaints column is nan\n",
    "df.dropna(subset=[\"complaint_what_happened\"], inplace=True)"
   ]
  },
  {
   "cell_type": "code",
   "execution_count": 9,
   "metadata": {},
   "outputs": [
    {
     "data": {
      "text/plain": [
       "0"
      ]
     },
     "execution_count": 9,
     "metadata": {},
     "output_type": "execute_result"
    }
   ],
   "source": [
    "# Counting number of rows with blank under complaints column\n",
    "\n",
    "len(df[df[\"complaint_what_happened\"] == \"\"])"
   ]
  },
  {
   "cell_type": "code",
   "execution_count": 10,
   "metadata": {},
   "outputs": [
    {
     "data": {
      "text/plain": [
       "(21072, 22)"
      ]
     },
     "execution_count": 10,
     "metadata": {},
     "output_type": "execute_result"
    }
   ],
   "source": [
    "#checking the shape of the dataset\n",
    "\n",
    "df.shape"
   ]
  },
  {
   "cell_type": "markdown",
   "metadata": {
    "id": "L944HZpsJrFy"
   },
   "source": [
    "## Prepare the text for topic modeling\n",
    "\n",
    "Once you have removed all the blank complaints, you need to:\n",
    "\n",
    "* Make the text lowercase\n",
    "* Remove text in square brackets\n",
    "* Remove punctuation\n",
    "* Remove words containing numbers\n",
    "\n",
    "\n",
    "Once you have done these cleaning operations you need to perform the following:\n",
    "* Lemmatize the texts\n",
    "* Extract the POS tags of the lemmatized text and remove all the words which have tags other than NN[tag == \"NN\"].\n"
   ]
  },
  {
   "cell_type": "code",
   "execution_count": 11,
   "metadata": {},
   "outputs": [
    {
     "data": {
      "text/plain": [
       "1     Good morning my name is XXXX XXXX and I apprec...\n",
       "2     I upgraded my XXXX XXXX card in XX/XX/2018 and...\n",
       "10    Chase Card was reported on XX/XX/2019. However...\n",
       "11    On XX/XX/2018, while trying to book a XXXX  XX...\n",
       "14    my grand son give me check for {$1600.00} i de...\n",
       "Name: complaint_what_happened, dtype: object"
      ]
     },
     "execution_count": 11,
     "metadata": {},
     "output_type": "execute_result"
    }
   ],
   "source": [
    "# Veiwing the first five rows of the complaints column\n",
    "df[\"complaint_what_happened\"].head()"
   ]
  },
  {
   "cell_type": "code",
   "execution_count": 12,
   "metadata": {
    "id": "qm7SjjSkJrFz"
   },
   "outputs": [],
   "source": [
    "# Write your function here to clean the text and remove all the unnecessary elements.\n",
    "\n",
    "def clean_text(t):\n",
    "    t = t.lower()        # Coverts text to lowercase\n",
    "    t = re.sub(r\"\\[.*?\\]\",\"\", t)        # Removes text in square brackets\n",
    "    t = re.sub(r\"[%s]\" % re.escape(string.punctuation), '', t)        # Removes punctuations from the text\n",
    "    t = re.sub(r\"\\w*\\d\\w*\", \"\", t)       #Removes words with numbers in them\n",
    "    return t"
   ]
  },
  {
   "cell_type": "code",
   "execution_count": 13,
   "metadata": {},
   "outputs": [],
   "source": [
    "# Making a new dataframe containing text-cleaned complaints using the above created function on the complaints column\n",
    "\n",
    "df_clean = pd.DataFrame(df['complaint_what_happened'].apply(clean_text))"
   ]
  },
  {
   "cell_type": "code",
   "execution_count": 14,
   "metadata": {},
   "outputs": [
    {
     "data": {
      "text/html": [
       "<div>\n",
       "<style scoped>\n",
       "    .dataframe tbody tr th:only-of-type {\n",
       "        vertical-align: middle;\n",
       "    }\n",
       "\n",
       "    .dataframe tbody tr th {\n",
       "        vertical-align: top;\n",
       "    }\n",
       "\n",
       "    .dataframe thead th {\n",
       "        text-align: right;\n",
       "    }\n",
       "</style>\n",
       "<table border=\"1\" class=\"dataframe\">\n",
       "  <thead>\n",
       "    <tr style=\"text-align: right;\">\n",
       "      <th></th>\n",
       "      <th>complaint_what_happened</th>\n",
       "    </tr>\n",
       "  </thead>\n",
       "  <tbody>\n",
       "    <tr>\n",
       "      <th>1</th>\n",
       "      <td>good morning my name is xxxx xxxx and i apprec...</td>\n",
       "    </tr>\n",
       "    <tr>\n",
       "      <th>2</th>\n",
       "      <td>i upgraded my xxxx xxxx card in  and was told ...</td>\n",
       "    </tr>\n",
       "    <tr>\n",
       "      <th>10</th>\n",
       "      <td>chase card was reported on  however fraudulent...</td>\n",
       "    </tr>\n",
       "    <tr>\n",
       "      <th>11</th>\n",
       "      <td>on  while trying to book a xxxx  xxxx  ticket ...</td>\n",
       "    </tr>\n",
       "    <tr>\n",
       "      <th>14</th>\n",
       "      <td>my grand son give me check for  i deposit it i...</td>\n",
       "    </tr>\n",
       "  </tbody>\n",
       "</table>\n",
       "</div>"
      ],
      "text/plain": [
       "                              complaint_what_happened\n",
       "1   good morning my name is xxxx xxxx and i apprec...\n",
       "2   i upgraded my xxxx xxxx card in  and was told ...\n",
       "10  chase card was reported on  however fraudulent...\n",
       "11  on  while trying to book a xxxx  xxxx  ticket ...\n",
       "14  my grand son give me check for  i deposit it i..."
      ]
     },
     "execution_count": 14,
     "metadata": {},
     "output_type": "execute_result"
    }
   ],
   "source": [
    "# Checking the cleaned dataframe\n",
    "\n",
    "df_clean.head()"
   ]
  },
  {
   "cell_type": "code",
   "execution_count": 15,
   "metadata": {
    "id": "zgOu8t8HJrFz"
   },
   "outputs": [],
   "source": [
    "#Write your function to Lemmatize the texts\n",
    "def create_lemmatized_version(input_text):\n",
    "    lemmatized_words = []\n",
    "    document = nlp(input_text)\n",
    "    for word in document:\n",
    "        lemmatized_words.append(word.lemma_)\n",
    "    return \" \".join(lemmatized_words)"
   ]
  },
  {
   "cell_type": "code",
   "execution_count": 16,
   "metadata": {
    "id": "uXnN7aa_JrF0"
   },
   "outputs": [],
   "source": [
    "#Create a dataframe('df_clean') that will have only the complaints and the lemmatized complaints \n",
    "df_clean['Complaint_Lemmatized'] = df_clean['complaint_what_happened'].apply(create_lemmatized_version)"
   ]
  },
  {
   "cell_type": "code",
   "execution_count": 17,
   "metadata": {
    "id": "nOiDVvEIJrF0"
   },
   "outputs": [
    {
     "data": {
      "text/html": [
       "<div>\n",
       "<style scoped>\n",
       "    .dataframe tbody tr th:only-of-type {\n",
       "        vertical-align: middle;\n",
       "    }\n",
       "\n",
       "    .dataframe tbody tr th {\n",
       "        vertical-align: top;\n",
       "    }\n",
       "\n",
       "    .dataframe thead th {\n",
       "        text-align: right;\n",
       "    }\n",
       "</style>\n",
       "<table border=\"1\" class=\"dataframe\">\n",
       "  <thead>\n",
       "    <tr style=\"text-align: right;\">\n",
       "      <th></th>\n",
       "      <th>complaint_what_happened</th>\n",
       "      <th>Complaint_Lemmatized</th>\n",
       "    </tr>\n",
       "  </thead>\n",
       "  <tbody>\n",
       "    <tr>\n",
       "      <th>1</th>\n",
       "      <td>good morning my name is xxxx xxxx and i apprec...</td>\n",
       "      <td>good morning my name be xxxx xxxx and I apprec...</td>\n",
       "    </tr>\n",
       "    <tr>\n",
       "      <th>2</th>\n",
       "      <td>i upgraded my xxxx xxxx card in  and was told ...</td>\n",
       "      <td>I upgrade my xxxx xxxx card in   and be tell b...</td>\n",
       "    </tr>\n",
       "    <tr>\n",
       "      <th>10</th>\n",
       "      <td>chase card was reported on  however fraudulent...</td>\n",
       "      <td>chase card be report on   however fraudulent a...</td>\n",
       "    </tr>\n",
       "    <tr>\n",
       "      <th>11</th>\n",
       "      <td>on  while trying to book a xxxx  xxxx  ticket ...</td>\n",
       "      <td>on   while try to book a xxxx   xxxx   ticket ...</td>\n",
       "    </tr>\n",
       "    <tr>\n",
       "      <th>14</th>\n",
       "      <td>my grand son give me check for  i deposit it i...</td>\n",
       "      <td>my grand son give I check for   I deposit it i...</td>\n",
       "    </tr>\n",
       "  </tbody>\n",
       "</table>\n",
       "</div>"
      ],
      "text/plain": [
       "                              complaint_what_happened  \\\n",
       "1   good morning my name is xxxx xxxx and i apprec...   \n",
       "2   i upgraded my xxxx xxxx card in  and was told ...   \n",
       "10  chase card was reported on  however fraudulent...   \n",
       "11  on  while trying to book a xxxx  xxxx  ticket ...   \n",
       "14  my grand son give me check for  i deposit it i...   \n",
       "\n",
       "                                 Complaint_Lemmatized  \n",
       "1   good morning my name be xxxx xxxx and I apprec...  \n",
       "2   I upgrade my xxxx xxxx card in   and be tell b...  \n",
       "10  chase card be report on   however fraudulent a...  \n",
       "11  on   while try to book a xxxx   xxxx   ticket ...  \n",
       "14  my grand son give I check for   I deposit it i...  "
      ]
     },
     "execution_count": 17,
     "metadata": {},
     "output_type": "execute_result"
    }
   ],
   "source": [
    "# Checking the cleaned dataframe\n",
    "df_clean.head()"
   ]
  },
  {
   "cell_type": "code",
   "execution_count": 19,
   "metadata": {
    "id": "Kk7fc4DuJrF1"
   },
   "outputs": [],
   "source": [
    "#Write your function to extract the POS tags\n",
    "def pos_tag(text):\n",
    "  # write your code here\n",
    "    nouns = []\n",
    "    blob = TextBlob(text)\n",
    "    nouns = [word for (word, tag) in blob.tags if tag == 'NN']\n",
    "    return \" \".join(nouns)\n",
    "\n",
    "\n",
    "df_clean[\"Complaint_POS_Removed\"] = df_clean[\"Complaint_Lemmatized\"].apply(pos_tag)"
   ]
  },
  {
   "cell_type": "code",
   "execution_count": 21,
   "metadata": {
    "id": "AjxfchvFJrF2"
   },
   "outputs": [
    {
     "data": {
      "text/html": [
       "<div>\n",
       "<style scoped>\n",
       "    .dataframe tbody tr th:only-of-type {\n",
       "        vertical-align: middle;\n",
       "    }\n",
       "\n",
       "    .dataframe tbody tr th {\n",
       "        vertical-align: top;\n",
       "    }\n",
       "\n",
       "    .dataframe thead th {\n",
       "        text-align: right;\n",
       "    }\n",
       "</style>\n",
       "<table border=\"1\" class=\"dataframe\">\n",
       "  <thead>\n",
       "    <tr style=\"text-align: right;\">\n",
       "      <th></th>\n",
       "      <th>complaint_what_happened</th>\n",
       "      <th>Complaint_Lemmatized</th>\n",
       "      <th>Complaint_POS_Removed</th>\n",
       "    </tr>\n",
       "  </thead>\n",
       "  <tbody>\n",
       "    <tr>\n",
       "      <th>1</th>\n",
       "      <td>good morning my name is xxxx xxxx and i apprec...</td>\n",
       "      <td>good morning my name be xxxx xxxx and I apprec...</td>\n",
       "      <td>morning name stop bank cardmember service ask ...</td>\n",
       "    </tr>\n",
       "    <tr>\n",
       "      <th>2</th>\n",
       "      <td>i upgraded my xxxx xxxx card in  and was told ...</td>\n",
       "      <td>I upgrade my xxxx xxxx card in   and be tell b...</td>\n",
       "      <td>card agent upgrade date agent information orde...</td>\n",
       "    </tr>\n",
       "    <tr>\n",
       "      <th>10</th>\n",
       "      <td>chase card was reported on  however fraudulent...</td>\n",
       "      <td>chase card be report on   however fraudulent a...</td>\n",
       "      <td>card report application identity consent servi...</td>\n",
       "    </tr>\n",
       "    <tr>\n",
       "      <th>11</th>\n",
       "      <td>on  while trying to book a xxxx  xxxx  ticket ...</td>\n",
       "      <td>on   while try to book a xxxx   xxxx   ticket ...</td>\n",
       "      <td>try book xxxx ticket offer ticket card informa...</td>\n",
       "    </tr>\n",
       "    <tr>\n",
       "      <th>14</th>\n",
       "      <td>my grand son give me check for  i deposit it i...</td>\n",
       "      <td>my grand son give I check for   I deposit it i...</td>\n",
       "      <td>son chase account fund bank account pay money ...</td>\n",
       "    </tr>\n",
       "  </tbody>\n",
       "</table>\n",
       "</div>"
      ],
      "text/plain": [
       "                              complaint_what_happened  \\\n",
       "1   good morning my name is xxxx xxxx and i apprec...   \n",
       "2   i upgraded my xxxx xxxx card in  and was told ...   \n",
       "10  chase card was reported on  however fraudulent...   \n",
       "11  on  while trying to book a xxxx  xxxx  ticket ...   \n",
       "14  my grand son give me check for  i deposit it i...   \n",
       "\n",
       "                                 Complaint_Lemmatized  \\\n",
       "1   good morning my name be xxxx xxxx and I apprec...   \n",
       "2   I upgrade my xxxx xxxx card in   and be tell b...   \n",
       "10  chase card be report on   however fraudulent a...   \n",
       "11  on   while try to book a xxxx   xxxx   ticket ...   \n",
       "14  my grand son give I check for   I deposit it i...   \n",
       "\n",
       "                                Complaint_POS_Removed  \n",
       "1   morning name stop bank cardmember service ask ...  \n",
       "2   card agent upgrade date agent information orde...  \n",
       "10  card report application identity consent servi...  \n",
       "11  try book xxxx ticket offer ticket card informa...  \n",
       "14  son chase account fund bank account pay money ...  "
      ]
     },
     "execution_count": 21,
     "metadata": {},
     "output_type": "execute_result"
    }
   ],
   "source": [
    "#The clean dataframe should now contain the raw complaint, lemmatized complaint and the complaint after removing POS tags.\n",
    "df_clean.head()"
   ]
  },
  {
   "cell_type": "markdown",
   "metadata": {
    "id": "_7Un1AElJrF2"
   },
   "source": [
    "## Exploratory data analysis to get familiar with the data.\n",
    "\n",
    "Write the code in this task to perform the following:\n",
    "\n",
    "*   Visualise the data according to the 'Complaint' character length\n",
    "*   Using a word cloud find the top 40 words by frequency among all the articles after processing the text\n",
    "*   Find the top unigrams,bigrams and trigrams by frequency among all the complaints after processing the text. ‘\n",
    "\n",
    "\n"
   ]
  },
  {
   "cell_type": "code",
   "execution_count": 22,
   "metadata": {
    "id": "q-zaqJF6JrF2"
   },
   "outputs": [
    {
     "data": {
      "image/png": "[encoded data removed]",
      "text/plain": [
       "<Figure size 576x432 with 1 Axes>"
      ]
     },
     "metadata": {},
     "output_type": "display_data"
    }
   ],
   "source": [
    "# Write your code here to visualise the data according to the 'Complaint' character length\n",
    "char_len = [len(each_sent) for each_sent in df_clean['Complaint_POS_Removed']]\n",
    "\n",
    "sns.set(style='whitegrid', palette=\"pastel\")\n",
    "\n",
    "plt.figure(figsize=(8, 6))\n",
    "\n",
    "sns.histplot(char_len, bins=60, kde=False)\n",
    "plt.xlabel(\"Complaint character length\")\n",
    "plt.ylabel(\"Total number of Complaints\")\n",
    "plt.title(\"Distribution of Complaint character length\")\n",
    "\n",
    "sns.despine()\n",
    "plt.tight_layout()\n",
    "\n",
    "plt.show()"
   ]
  },
  {
   "cell_type": "markdown",
   "metadata": {},
   "source": [
    "### Observation\n",
    "#### It seems to be skewed to the right but it is a normal distribution"
   ]
  },
  {
   "cell_type": "markdown",
   "metadata": {
    "id": "T9jD_6SeJrF3"
   },
   "source": [
    "#### Find the top 40 words by frequency among all the articles after processing the text."
   ]
  },
  {
   "cell_type": "code",
   "execution_count": 23,
   "metadata": {
    "id": "QcfdvtfZJrF3"
   },
   "outputs": [
    {
     "data": {
      "image/png": "[encoded data removed]",
      "text/plain": [
       "<Figure size 1080x1080 with 1 Axes>"
      ]
     },
     "metadata": {},
     "output_type": "display_data"
    }
   ],
   "source": [
    "#Using a word cloud find the top 40 words by frequency among all the articles after processing the text\n",
    "stopwords = set(STOPWORDS)\n",
    "wordcloud = WordCloud(max_font_size=60, max_words=40, \n",
    "                      background_color=\"white\", random_state=100, \n",
    "                      stopwords=stopwords).generate(str(df_clean[\"Complaint_POS_Removed\"]))\n",
    "plt.figure(figsize=[15,15])\n",
    "plt.imshow(wordcloud, interpolation=\"bilinear\")\n",
    "plt.axis(\"off\")\n",
    "plt.show()"
   ]
  },
  {
   "cell_type": "code",
   "execution_count": 24,
   "metadata": {
    "id": "OkSmc3UaJrF4"
   },
   "outputs": [],
   "source": [
    "#Removing -PRON- from the text corpus\n",
    "def remove_pron(substring):\n",
    "    return substring.replace(\"-PRON-\", \"\")\n",
    "\n",
    "df_clean[\"Complaint_Clean\"] = df_clean[\"Complaint_POS_Removed\"].apply(remove_pron)"
   ]
  },
  {
   "cell_type": "markdown",
   "metadata": {
    "id": "5DfCSbbmJrF4"
   },
   "source": [
    "#### Find the top unigrams,bigrams and trigrams by frequency among all the complaints after processing the text."
   ]
  },
  {
   "cell_type": "code",
   "execution_count": 25,
   "metadata": {
    "id": "5mbk5DS5JrF4"
   },
   "outputs": [],
   "source": [
    "#Write your code here to find the top 30 unigram frequency among the complaints in the cleaned datafram(df_clean). \n",
    "\n",
    "# Defining a function to get the top n words(unigrams)\n",
    "\n",
    "def get_top_ngrams(text, n= None, ngram=(1,1)):\n",
    "    vec = CountVectorizer(stop_words=\"english\", ngram_range=ngram).fit(text)\n",
    "    bagofwords = vec.transform(text)\n",
    "    sum_words = bagofwords.sum(axis=0)\n",
    "    word_frequency = [(word, sum_words[0, index]) for word, index in vec.vocabulary_.items()]\n",
    "    word_frequency = sorted(word_frequency, key = lambda x: x[1], reverse=True)\n",
    "    return word_frequency[:n]"
   ]
  },
  {
   "cell_type": "code",
   "execution_count": 26,
   "metadata": {
    "scrolled": true
   },
   "outputs": [
    {
     "data": {
      "text/html": [
       "<div>\n",
       "<style scoped>\n",
       "    .dataframe tbody tr th:only-of-type {\n",
       "        vertical-align: middle;\n",
       "    }\n",
       "\n",
       "    .dataframe tbody tr th {\n",
       "        vertical-align: top;\n",
       "    }\n",
       "\n",
       "    .dataframe thead th {\n",
       "        text-align: right;\n",
       "    }\n",
       "</style>\n",
       "<table border=\"1\" class=\"dataframe\">\n",
       "  <thead>\n",
       "    <tr style=\"text-align: right;\">\n",
       "      <th></th>\n",
       "      <th>unigram</th>\n",
       "      <th>count</th>\n",
       "    </tr>\n",
       "  </thead>\n",
       "  <tbody>\n",
       "    <tr>\n",
       "      <th>0</th>\n",
       "      <td>account</td>\n",
       "      <td>47516</td>\n",
       "    </tr>\n",
       "    <tr>\n",
       "      <th>1</th>\n",
       "      <td>chase</td>\n",
       "      <td>46699</td>\n",
       "    </tr>\n",
       "    <tr>\n",
       "      <th>2</th>\n",
       "      <td>xxxx</td>\n",
       "      <td>36564</td>\n",
       "    </tr>\n",
       "    <tr>\n",
       "      <th>3</th>\n",
       "      <td>credit</td>\n",
       "      <td>34148</td>\n",
       "    </tr>\n",
       "    <tr>\n",
       "      <th>4</th>\n",
       "      <td>card</td>\n",
       "      <td>29278</td>\n",
       "    </tr>\n",
       "    <tr>\n",
       "      <th>5</th>\n",
       "      <td>bank</td>\n",
       "      <td>28403</td>\n",
       "    </tr>\n",
       "    <tr>\n",
       "      <th>6</th>\n",
       "      <td>payment</td>\n",
       "      <td>21166</td>\n",
       "    </tr>\n",
       "    <tr>\n",
       "      <th>7</th>\n",
       "      <td>time</td>\n",
       "      <td>16021</td>\n",
       "    </tr>\n",
       "    <tr>\n",
       "      <th>8</th>\n",
       "      <td>charge</td>\n",
       "      <td>14997</td>\n",
       "    </tr>\n",
       "    <tr>\n",
       "      <th>9</th>\n",
       "      <td>day</td>\n",
       "      <td>12972</td>\n",
       "    </tr>\n",
       "    <tr>\n",
       "      <th>10</th>\n",
       "      <td>xxxxxxxx</td>\n",
       "      <td>12401</td>\n",
       "    </tr>\n",
       "    <tr>\n",
       "      <th>11</th>\n",
       "      <td>check</td>\n",
       "      <td>12297</td>\n",
       "    </tr>\n",
       "    <tr>\n",
       "      <th>12</th>\n",
       "      <td>money</td>\n",
       "      <td>11961</td>\n",
       "    </tr>\n",
       "    <tr>\n",
       "      <th>13</th>\n",
       "      <td>loan</td>\n",
       "      <td>11000</td>\n",
       "    </tr>\n",
       "    <tr>\n",
       "      <th>14</th>\n",
       "      <td>state</td>\n",
       "      <td>9692</td>\n",
       "    </tr>\n",
       "    <tr>\n",
       "      <th>15</th>\n",
       "      <td>letter</td>\n",
       "      <td>9669</td>\n",
       "    </tr>\n",
       "    <tr>\n",
       "      <th>16</th>\n",
       "      <td>information</td>\n",
       "      <td>9654</td>\n",
       "    </tr>\n",
       "    <tr>\n",
       "      <th>17</th>\n",
       "      <td>report</td>\n",
       "      <td>8971</td>\n",
       "    </tr>\n",
       "    <tr>\n",
       "      <th>18</th>\n",
       "      <td>transaction</td>\n",
       "      <td>8650</td>\n",
       "    </tr>\n",
       "    <tr>\n",
       "      <th>19</th>\n",
       "      <td>fee</td>\n",
       "      <td>8634</td>\n",
       "    </tr>\n",
       "    <tr>\n",
       "      <th>20</th>\n",
       "      <td>number</td>\n",
       "      <td>8619</td>\n",
       "    </tr>\n",
       "    <tr>\n",
       "      <th>21</th>\n",
       "      <td>month</td>\n",
       "      <td>8462</td>\n",
       "    </tr>\n",
       "    <tr>\n",
       "      <th>22</th>\n",
       "      <td>year</td>\n",
       "      <td>8292</td>\n",
       "    </tr>\n",
       "    <tr>\n",
       "      <th>23</th>\n",
       "      <td>mortgage</td>\n",
       "      <td>8193</td>\n",
       "    </tr>\n",
       "    <tr>\n",
       "      <th>24</th>\n",
       "      <td>customer</td>\n",
       "      <td>8163</td>\n",
       "    </tr>\n",
       "    <tr>\n",
       "      <th>25</th>\n",
       "      <td>claim</td>\n",
       "      <td>7851</td>\n",
       "    </tr>\n",
       "    <tr>\n",
       "      <th>26</th>\n",
       "      <td>balance</td>\n",
       "      <td>7743</td>\n",
       "    </tr>\n",
       "    <tr>\n",
       "      <th>27</th>\n",
       "      <td>phone</td>\n",
       "      <td>7718</td>\n",
       "    </tr>\n",
       "    <tr>\n",
       "      <th>28</th>\n",
       "      <td>service</td>\n",
       "      <td>7702</td>\n",
       "    </tr>\n",
       "    <tr>\n",
       "      <th>29</th>\n",
       "      <td>company</td>\n",
       "      <td>7626</td>\n",
       "    </tr>\n",
       "  </tbody>\n",
       "</table>\n",
       "</div>"
      ],
      "text/plain": [
       "        unigram  count\n",
       "0       account  47516\n",
       "1         chase  46699\n",
       "2          xxxx  36564\n",
       "3        credit  34148\n",
       "4          card  29278\n",
       "5          bank  28403\n",
       "6       payment  21166\n",
       "7          time  16021\n",
       "8        charge  14997\n",
       "9           day  12972\n",
       "10     xxxxxxxx  12401\n",
       "11        check  12297\n",
       "12        money  11961\n",
       "13         loan  11000\n",
       "14        state   9692\n",
       "15       letter   9669\n",
       "16  information   9654\n",
       "17       report   8971\n",
       "18  transaction   8650\n",
       "19          fee   8634\n",
       "20       number   8619\n",
       "21        month   8462\n",
       "22         year   8292\n",
       "23     mortgage   8193\n",
       "24     customer   8163\n",
       "25        claim   7851\n",
       "26      balance   7743\n",
       "27        phone   7718\n",
       "28      service   7702\n",
       "29      company   7626"
      ]
     },
     "execution_count": 26,
     "metadata": {},
     "output_type": "execute_result"
    }
   ],
   "source": [
    "# Checking the top 30 words in the ingram frequency\n",
    "\n",
    "top_30words = get_top_ngrams(df_clean['Complaint_Clean'].values.astype('U'), n=30, ngram=(1,1))\n",
    "df_unigram = pd.DataFrame(top_30words, columns=['unigram', 'count'])\n",
    "df_unigram"
   ]
  },
  {
   "cell_type": "code",
   "execution_count": 27,
   "metadata": {},
   "outputs": [
    {
     "data": {
      "image/png": "[encoded data removed]",
      "text/plain": [
       "<Figure size 1152x504 with 1 Axes>"
      ]
     },
     "metadata": {},
     "output_type": "display_data"
    }
   ],
   "source": [
    "#Write your code here to find the top 30 unigram frequency among the complaints in the cleaned datafram(df_clean). \n",
    "plt.figure(figsize=(16, 7))\n",
    "sns.barplot(x=df_unigram[\"unigram\"], y=df_unigram[\"count\"], color=\"skyblue\")\n",
    "plt.xticks(rotation=45)\n",
    "plt.xlabel(\"Unigram\")\n",
    "plt.ylabel(\"Count\")\n",
    "plt.title(\"Top 30 Unigram Frequencies\")\n",
    "sns.despine()\n",
    "plt.show()"
   ]
  },
  {
   "cell_type": "code",
   "execution_count": 28,
   "metadata": {
    "id": "YX7fedm1JrF8"
   },
   "outputs": [
    {
     "data": {
      "text/html": [
       "<div>\n",
       "<style scoped>\n",
       "    .dataframe tbody tr th:only-of-type {\n",
       "        vertical-align: middle;\n",
       "    }\n",
       "\n",
       "    .dataframe tbody tr th {\n",
       "        vertical-align: top;\n",
       "    }\n",
       "\n",
       "    .dataframe thead th {\n",
       "        text-align: right;\n",
       "    }\n",
       "</style>\n",
       "<table border=\"1\" class=\"dataframe\">\n",
       "  <thead>\n",
       "    <tr style=\"text-align: right;\">\n",
       "      <th></th>\n",
       "      <th>unigram</th>\n",
       "      <th>count</th>\n",
       "    </tr>\n",
       "  </thead>\n",
       "  <tbody>\n",
       "    <tr>\n",
       "      <th>0</th>\n",
       "      <td>account</td>\n",
       "      <td>47516</td>\n",
       "    </tr>\n",
       "    <tr>\n",
       "      <th>1</th>\n",
       "      <td>chase</td>\n",
       "      <td>46699</td>\n",
       "    </tr>\n",
       "    <tr>\n",
       "      <th>2</th>\n",
       "      <td>xxxx</td>\n",
       "      <td>36564</td>\n",
       "    </tr>\n",
       "    <tr>\n",
       "      <th>3</th>\n",
       "      <td>credit</td>\n",
       "      <td>34148</td>\n",
       "    </tr>\n",
       "    <tr>\n",
       "      <th>4</th>\n",
       "      <td>card</td>\n",
       "      <td>29278</td>\n",
       "    </tr>\n",
       "    <tr>\n",
       "      <th>5</th>\n",
       "      <td>bank</td>\n",
       "      <td>28403</td>\n",
       "    </tr>\n",
       "    <tr>\n",
       "      <th>6</th>\n",
       "      <td>payment</td>\n",
       "      <td>21166</td>\n",
       "    </tr>\n",
       "    <tr>\n",
       "      <th>7</th>\n",
       "      <td>time</td>\n",
       "      <td>16021</td>\n",
       "    </tr>\n",
       "    <tr>\n",
       "      <th>8</th>\n",
       "      <td>charge</td>\n",
       "      <td>14997</td>\n",
       "    </tr>\n",
       "    <tr>\n",
       "      <th>9</th>\n",
       "      <td>day</td>\n",
       "      <td>12972</td>\n",
       "    </tr>\n",
       "  </tbody>\n",
       "</table>\n",
       "</div>"
      ],
      "text/plain": [
       "   unigram  count\n",
       "0  account  47516\n",
       "1    chase  46699\n",
       "2     xxxx  36564\n",
       "3   credit  34148\n",
       "4     card  29278\n",
       "5     bank  28403\n",
       "6  payment  21166\n",
       "7     time  16021\n",
       "8   charge  14997\n",
       "9      day  12972"
      ]
     },
     "execution_count": 28,
     "metadata": {},
     "output_type": "execute_result"
    }
   ],
   "source": [
    "#Print the top 10 words in the unigram frequency\n",
    "df_unigram.head(10)"
   ]
  },
  {
   "cell_type": "code",
   "execution_count": 29,
   "metadata": {
    "id": "aV7kD7w8JrF8",
    "scrolled": true
   },
   "outputs": [
    {
     "data": {
      "text/html": [
       "<div>\n",
       "<style scoped>\n",
       "    .dataframe tbody tr th:only-of-type {\n",
       "        vertical-align: middle;\n",
       "    }\n",
       "\n",
       "    .dataframe tbody tr th {\n",
       "        vertical-align: top;\n",
       "    }\n",
       "\n",
       "    .dataframe thead th {\n",
       "        text-align: right;\n",
       "    }\n",
       "</style>\n",
       "<table border=\"1\" class=\"dataframe\">\n",
       "  <thead>\n",
       "    <tr style=\"text-align: right;\">\n",
       "      <th></th>\n",
       "      <th>bigram</th>\n",
       "      <th>count</th>\n",
       "    </tr>\n",
       "  </thead>\n",
       "  <tbody>\n",
       "    <tr>\n",
       "      <th>0</th>\n",
       "      <td>credit card</td>\n",
       "      <td>12778</td>\n",
       "    </tr>\n",
       "    <tr>\n",
       "      <th>1</th>\n",
       "      <td>credit report</td>\n",
       "      <td>3955</td>\n",
       "    </tr>\n",
       "    <tr>\n",
       "      <th>2</th>\n",
       "      <td>xxxx xxxx</td>\n",
       "      <td>3951</td>\n",
       "    </tr>\n",
       "    <tr>\n",
       "      <th>3</th>\n",
       "      <td>customer service</td>\n",
       "      <td>3081</td>\n",
       "    </tr>\n",
       "    <tr>\n",
       "      <th>4</th>\n",
       "      <td>chase credit</td>\n",
       "      <td>2966</td>\n",
       "    </tr>\n",
       "    <tr>\n",
       "      <th>5</th>\n",
       "      <td>chase bank</td>\n",
       "      <td>2941</td>\n",
       "    </tr>\n",
       "    <tr>\n",
       "      <th>6</th>\n",
       "      <td>bank account</td>\n",
       "      <td>2729</td>\n",
       "    </tr>\n",
       "    <tr>\n",
       "      <th>7</th>\n",
       "      <td>account chase</td>\n",
       "      <td>2595</td>\n",
       "    </tr>\n",
       "    <tr>\n",
       "      <th>8</th>\n",
       "      <td>chase account</td>\n",
       "      <td>2564</td>\n",
       "    </tr>\n",
       "    <tr>\n",
       "      <th>9</th>\n",
       "      <td>check account</td>\n",
       "      <td>2413</td>\n",
       "    </tr>\n",
       "    <tr>\n",
       "      <th>10</th>\n",
       "      <td>account account</td>\n",
       "      <td>2378</td>\n",
       "    </tr>\n",
       "    <tr>\n",
       "      <th>11</th>\n",
       "      <td>account bank</td>\n",
       "      <td>1746</td>\n",
       "    </tr>\n",
       "    <tr>\n",
       "      <th>12</th>\n",
       "      <td>card account</td>\n",
       "      <td>1594</td>\n",
       "    </tr>\n",
       "    <tr>\n",
       "      <th>13</th>\n",
       "      <td>debit card</td>\n",
       "      <td>1562</td>\n",
       "    </tr>\n",
       "    <tr>\n",
       "      <th>14</th>\n",
       "      <td>credit score</td>\n",
       "      <td>1539</td>\n",
       "    </tr>\n",
       "    <tr>\n",
       "      <th>15</th>\n",
       "      <td>account credit</td>\n",
       "      <td>1480</td>\n",
       "    </tr>\n",
       "    <tr>\n",
       "      <th>16</th>\n",
       "      <td>payment payment</td>\n",
       "      <td>1348</td>\n",
       "    </tr>\n",
       "    <tr>\n",
       "      <th>17</th>\n",
       "      <td>money account</td>\n",
       "      <td>1332</td>\n",
       "    </tr>\n",
       "    <tr>\n",
       "      <th>18</th>\n",
       "      <td>card chase</td>\n",
       "      <td>1296</td>\n",
       "    </tr>\n",
       "    <tr>\n",
       "      <th>19</th>\n",
       "      <td>account xxxx</td>\n",
       "      <td>1292</td>\n",
       "    </tr>\n",
       "    <tr>\n",
       "      <th>20</th>\n",
       "      <td>xxxx chase</td>\n",
       "      <td>1276</td>\n",
       "    </tr>\n",
       "    <tr>\n",
       "      <th>21</th>\n",
       "      <td>phone number</td>\n",
       "      <td>1264</td>\n",
       "    </tr>\n",
       "    <tr>\n",
       "      <th>22</th>\n",
       "      <td>business day</td>\n",
       "      <td>1263</td>\n",
       "    </tr>\n",
       "    <tr>\n",
       "      <th>23</th>\n",
       "      <td>credit account</td>\n",
       "      <td>1221</td>\n",
       "    </tr>\n",
       "    <tr>\n",
       "      <th>24</th>\n",
       "      <td>charge account</td>\n",
       "      <td>1206</td>\n",
       "    </tr>\n",
       "    <tr>\n",
       "      <th>25</th>\n",
       "      <td>account number</td>\n",
       "      <td>1169</td>\n",
       "    </tr>\n",
       "    <tr>\n",
       "      <th>26</th>\n",
       "      <td>xxxx account</td>\n",
       "      <td>1139</td>\n",
       "    </tr>\n",
       "    <tr>\n",
       "      <th>27</th>\n",
       "      <td>card company</td>\n",
       "      <td>1121</td>\n",
       "    </tr>\n",
       "    <tr>\n",
       "      <th>28</th>\n",
       "      <td>checking account</td>\n",
       "      <td>1110</td>\n",
       "    </tr>\n",
       "    <tr>\n",
       "      <th>29</th>\n",
       "      <td>card card</td>\n",
       "      <td>1082</td>\n",
       "    </tr>\n",
       "  </tbody>\n",
       "</table>\n",
       "</div>"
      ],
      "text/plain": [
       "              bigram  count\n",
       "0        credit card  12778\n",
       "1      credit report   3955\n",
       "2          xxxx xxxx   3951\n",
       "3   customer service   3081\n",
       "4       chase credit   2966\n",
       "5         chase bank   2941\n",
       "6       bank account   2729\n",
       "7      account chase   2595\n",
       "8      chase account   2564\n",
       "9      check account   2413\n",
       "10   account account   2378\n",
       "11      account bank   1746\n",
       "12      card account   1594\n",
       "13        debit card   1562\n",
       "14      credit score   1539\n",
       "15    account credit   1480\n",
       "16   payment payment   1348\n",
       "17     money account   1332\n",
       "18        card chase   1296\n",
       "19      account xxxx   1292\n",
       "20        xxxx chase   1276\n",
       "21      phone number   1264\n",
       "22      business day   1263\n",
       "23    credit account   1221\n",
       "24    charge account   1206\n",
       "25    account number   1169\n",
       "26      xxxx account   1139\n",
       "27      card company   1121\n",
       "28  checking account   1110\n",
       "29         card card   1082"
      ]
     },
     "execution_count": 29,
     "metadata": {},
     "output_type": "execute_result"
    }
   ],
   "source": [
    "#Write your code here to find the top 30 bigram frequency among the complaints in the cleaned datafram(df_clean).\n",
    "top_30_words = get_top_ngrams(df_clean[\"Complaint_Clean\"].values.astype(\"U\"), n=30, ngram=(2,2))\n",
    "df_bigram = pd.DataFrame(top_30_words, columns=[\"bigram\", \"count\"])\n",
    "df_bigram"
   ]
  },
  {
   "cell_type": "code",
   "execution_count": 30,
   "metadata": {},
   "outputs": [
    {
     "data": {
      "image/png": "[encoded data removed]",
      "text/plain": [
       "<Figure size 1152x504 with 1 Axes>"
      ]
     },
     "metadata": {},
     "output_type": "display_data"
    }
   ],
   "source": [
    "#Top 30 bigram frequencies among the cleaned dataframe\n",
    "plt.figure(figsize=(16, 7))\n",
    "sns.barplot(x=df_bigram[\"bigram\"], y=df_bigram[\"count\"], color=\"red\")\n",
    "plt.xticks(rotation=45)\n",
    "plt.xlabel(\"Bigram\")\n",
    "plt.ylabel(\"Count\")\n",
    "plt.title(\"Top 30 Bigram Frequencies\")\n",
    "sns.despine()\n",
    "plt.show()"
   ]
  },
  {
   "cell_type": "code",
   "execution_count": 31,
   "metadata": {
    "id": "NPnMNIpyJrF9"
   },
   "outputs": [
    {
     "data": {
      "text/html": [
       "<div>\n",
       "<style scoped>\n",
       "    .dataframe tbody tr th:only-of-type {\n",
       "        vertical-align: middle;\n",
       "    }\n",
       "\n",
       "    .dataframe tbody tr th {\n",
       "        vertical-align: top;\n",
       "    }\n",
       "\n",
       "    .dataframe thead th {\n",
       "        text-align: right;\n",
       "    }\n",
       "</style>\n",
       "<table border=\"1\" class=\"dataframe\">\n",
       "  <thead>\n",
       "    <tr style=\"text-align: right;\">\n",
       "      <th></th>\n",
       "      <th>bigram</th>\n",
       "      <th>count</th>\n",
       "    </tr>\n",
       "  </thead>\n",
       "  <tbody>\n",
       "    <tr>\n",
       "      <th>0</th>\n",
       "      <td>credit card</td>\n",
       "      <td>12778</td>\n",
       "    </tr>\n",
       "    <tr>\n",
       "      <th>1</th>\n",
       "      <td>credit report</td>\n",
       "      <td>3955</td>\n",
       "    </tr>\n",
       "    <tr>\n",
       "      <th>2</th>\n",
       "      <td>xxxx xxxx</td>\n",
       "      <td>3951</td>\n",
       "    </tr>\n",
       "    <tr>\n",
       "      <th>3</th>\n",
       "      <td>customer service</td>\n",
       "      <td>3081</td>\n",
       "    </tr>\n",
       "    <tr>\n",
       "      <th>4</th>\n",
       "      <td>chase credit</td>\n",
       "      <td>2966</td>\n",
       "    </tr>\n",
       "    <tr>\n",
       "      <th>5</th>\n",
       "      <td>chase bank</td>\n",
       "      <td>2941</td>\n",
       "    </tr>\n",
       "    <tr>\n",
       "      <th>6</th>\n",
       "      <td>bank account</td>\n",
       "      <td>2729</td>\n",
       "    </tr>\n",
       "    <tr>\n",
       "      <th>7</th>\n",
       "      <td>account chase</td>\n",
       "      <td>2595</td>\n",
       "    </tr>\n",
       "    <tr>\n",
       "      <th>8</th>\n",
       "      <td>chase account</td>\n",
       "      <td>2564</td>\n",
       "    </tr>\n",
       "    <tr>\n",
       "      <th>9</th>\n",
       "      <td>check account</td>\n",
       "      <td>2413</td>\n",
       "    </tr>\n",
       "  </tbody>\n",
       "</table>\n",
       "</div>"
      ],
      "text/plain": [
       "             bigram  count\n",
       "0       credit card  12778\n",
       "1     credit report   3955\n",
       "2         xxxx xxxx   3951\n",
       "3  customer service   3081\n",
       "4      chase credit   2966\n",
       "5        chase bank   2941\n",
       "6      bank account   2729\n",
       "7     account chase   2595\n",
       "8     chase account   2564\n",
       "9     check account   2413"
      ]
     },
     "execution_count": 31,
     "metadata": {},
     "output_type": "execute_result"
    }
   ],
   "source": [
    "#Print the top 10 words in the bigram frequency\n",
    "df_bigram.head(10)"
   ]
  },
  {
   "cell_type": "code",
   "execution_count": 32,
   "metadata": {
    "id": "Xkh7vtbtJrF-"
   },
   "outputs": [
    {
     "data": {
      "text/html": [
       "<div>\n",
       "<style scoped>\n",
       "    .dataframe tbody tr th:only-of-type {\n",
       "        vertical-align: middle;\n",
       "    }\n",
       "\n",
       "    .dataframe tbody tr th {\n",
       "        vertical-align: top;\n",
       "    }\n",
       "\n",
       "    .dataframe thead th {\n",
       "        text-align: right;\n",
       "    }\n",
       "</style>\n",
       "<table border=\"1\" class=\"dataframe\">\n",
       "  <thead>\n",
       "    <tr style=\"text-align: right;\">\n",
       "      <th></th>\n",
       "      <th>trigram</th>\n",
       "      <th>count</th>\n",
       "    </tr>\n",
       "  </thead>\n",
       "  <tbody>\n",
       "    <tr>\n",
       "      <th>0</th>\n",
       "      <td>chase credit card</td>\n",
       "      <td>2063</td>\n",
       "    </tr>\n",
       "    <tr>\n",
       "      <th>1</th>\n",
       "      <td>credit card account</td>\n",
       "      <td>1022</td>\n",
       "    </tr>\n",
       "    <tr>\n",
       "      <th>2</th>\n",
       "      <td>credit card company</td>\n",
       "      <td>991</td>\n",
       "    </tr>\n",
       "    <tr>\n",
       "      <th>3</th>\n",
       "      <td>credit card chase</td>\n",
       "      <td>632</td>\n",
       "    </tr>\n",
       "    <tr>\n",
       "      <th>4</th>\n",
       "      <td>credit card credit</td>\n",
       "      <td>515</td>\n",
       "    </tr>\n",
       "    <tr>\n",
       "      <th>5</th>\n",
       "      <td>inquiry credit report</td>\n",
       "      <td>481</td>\n",
       "    </tr>\n",
       "    <tr>\n",
       "      <th>6</th>\n",
       "      <td>charge credit card</td>\n",
       "      <td>421</td>\n",
       "    </tr>\n",
       "    <tr>\n",
       "      <th>7</th>\n",
       "      <td>xxxx xxxx xxxx</td>\n",
       "      <td>411</td>\n",
       "    </tr>\n",
       "    <tr>\n",
       "      <th>8</th>\n",
       "      <td>account credit card</td>\n",
       "      <td>398</td>\n",
       "    </tr>\n",
       "    <tr>\n",
       "      <th>9</th>\n",
       "      <td>card credit card</td>\n",
       "      <td>388</td>\n",
       "    </tr>\n",
       "    <tr>\n",
       "      <th>10</th>\n",
       "      <td>credit reporting agency</td>\n",
       "      <td>384</td>\n",
       "    </tr>\n",
       "    <tr>\n",
       "      <th>11</th>\n",
       "      <td>credit card bank</td>\n",
       "      <td>360</td>\n",
       "    </tr>\n",
       "    <tr>\n",
       "      <th>12</th>\n",
       "      <td>bank credit card</td>\n",
       "      <td>349</td>\n",
       "    </tr>\n",
       "    <tr>\n",
       "      <th>13</th>\n",
       "      <td>credit report credit</td>\n",
       "      <td>342</td>\n",
       "    </tr>\n",
       "    <tr>\n",
       "      <th>14</th>\n",
       "      <td>xxxx credit card</td>\n",
       "      <td>334</td>\n",
       "    </tr>\n",
       "    <tr>\n",
       "      <th>15</th>\n",
       "      <td>credit reporting act</td>\n",
       "      <td>328</td>\n",
       "    </tr>\n",
       "    <tr>\n",
       "      <th>16</th>\n",
       "      <td>credit card charge</td>\n",
       "      <td>307</td>\n",
       "    </tr>\n",
       "    <tr>\n",
       "      <th>17</th>\n",
       "      <td>credit card payment</td>\n",
       "      <td>295</td>\n",
       "    </tr>\n",
       "    <tr>\n",
       "      <th>18</th>\n",
       "      <td>account credit report</td>\n",
       "      <td>287</td>\n",
       "    </tr>\n",
       "    <tr>\n",
       "      <th>19</th>\n",
       "      <td>credit card xxxx</td>\n",
       "      <td>277</td>\n",
       "    </tr>\n",
       "    <tr>\n",
       "      <th>20</th>\n",
       "      <td>account chase account</td>\n",
       "      <td>268</td>\n",
       "    </tr>\n",
       "    <tr>\n",
       "      <th>21</th>\n",
       "      <td>credit card balance</td>\n",
       "      <td>261</td>\n",
       "    </tr>\n",
       "    <tr>\n",
       "      <th>22</th>\n",
       "      <td>credit card card</td>\n",
       "      <td>260</td>\n",
       "    </tr>\n",
       "    <tr>\n",
       "      <th>23</th>\n",
       "      <td>chase customer service</td>\n",
       "      <td>246</td>\n",
       "    </tr>\n",
       "    <tr>\n",
       "      <th>24</th>\n",
       "      <td>consumer protection bureau</td>\n",
       "      <td>246</td>\n",
       "    </tr>\n",
       "    <tr>\n",
       "      <th>25</th>\n",
       "      <td>victim identity theft</td>\n",
       "      <td>244</td>\n",
       "    </tr>\n",
       "    <tr>\n",
       "      <th>26</th>\n",
       "      <td>credit card service</td>\n",
       "      <td>239</td>\n",
       "    </tr>\n",
       "    <tr>\n",
       "      <th>27</th>\n",
       "      <td>payment credit card</td>\n",
       "      <td>237</td>\n",
       "    </tr>\n",
       "    <tr>\n",
       "      <th>28</th>\n",
       "      <td>freedom credit card</td>\n",
       "      <td>234</td>\n",
       "    </tr>\n",
       "    <tr>\n",
       "      <th>29</th>\n",
       "      <td>credit card statement</td>\n",
       "      <td>222</td>\n",
       "    </tr>\n",
       "  </tbody>\n",
       "</table>\n",
       "</div>"
      ],
      "text/plain": [
       "                       trigram  count\n",
       "0            chase credit card   2063\n",
       "1          credit card account   1022\n",
       "2          credit card company    991\n",
       "3            credit card chase    632\n",
       "4           credit card credit    515\n",
       "5        inquiry credit report    481\n",
       "6           charge credit card    421\n",
       "7               xxxx xxxx xxxx    411\n",
       "8          account credit card    398\n",
       "9             card credit card    388\n",
       "10     credit reporting agency    384\n",
       "11            credit card bank    360\n",
       "12            bank credit card    349\n",
       "13        credit report credit    342\n",
       "14            xxxx credit card    334\n",
       "15        credit reporting act    328\n",
       "16          credit card charge    307\n",
       "17         credit card payment    295\n",
       "18       account credit report    287\n",
       "19            credit card xxxx    277\n",
       "20       account chase account    268\n",
       "21         credit card balance    261\n",
       "22            credit card card    260\n",
       "23      chase customer service    246\n",
       "24  consumer protection bureau    246\n",
       "25       victim identity theft    244\n",
       "26         credit card service    239\n",
       "27         payment credit card    237\n",
       "28         freedom credit card    234\n",
       "29       credit card statement    222"
      ]
     },
     "execution_count": 32,
     "metadata": {},
     "output_type": "execute_result"
    }
   ],
   "source": [
    "#Write your code here to find the top 30 trigram frequency among the complaints in the cleaned datafram(df_clean). \n",
    "top_30_words = get_top_ngrams(df_clean[\"Complaint_Clean\"].values.astype(\"U\"), n=30, ngram=(3,3))\n",
    "df_trigram = pd.DataFrame(top_30_words, columns=[\"trigram\", \"count\"])\n",
    "df_trigram"
   ]
  },
  {
   "cell_type": "code",
   "execution_count": 33,
   "metadata": {},
   "outputs": [
    {
     "data": {
      "image/png": "[encoded data removed]",
      "text/plain": [
       "<Figure size 1152x504 with 1 Axes>"
      ]
     },
     "metadata": {},
     "output_type": "display_data"
    }
   ],
   "source": [
    "#Top 30 bigram frequencies among the cleaned dataframe\n",
    "plt.figure(figsize=(16, 7))\n",
    "sns.barplot(x=df_trigram[\"trigram\"], y=df_trigram[\"count\"], color=\"red\")\n",
    "plt.xticks(rotation=45)\n",
    "plt.xlabel(\"Trigram\")\n",
    "plt.ylabel(\"Count\")\n",
    "plt.title(\"Top 30 Trigram Frequencies\")\n",
    "sns.despine()\n",
    "plt.show()"
   ]
  },
  {
   "cell_type": "code",
   "execution_count": 34,
   "metadata": {
    "id": "REcVxNfvJrF-"
   },
   "outputs": [
    {
     "data": {
      "text/html": [
       "<div>\n",
       "<style scoped>\n",
       "    .dataframe tbody tr th:only-of-type {\n",
       "        vertical-align: middle;\n",
       "    }\n",
       "\n",
       "    .dataframe tbody tr th {\n",
       "        vertical-align: top;\n",
       "    }\n",
       "\n",
       "    .dataframe thead th {\n",
       "        text-align: right;\n",
       "    }\n",
       "</style>\n",
       "<table border=\"1\" class=\"dataframe\">\n",
       "  <thead>\n",
       "    <tr style=\"text-align: right;\">\n",
       "      <th></th>\n",
       "      <th>trigram</th>\n",
       "      <th>count</th>\n",
       "    </tr>\n",
       "  </thead>\n",
       "  <tbody>\n",
       "    <tr>\n",
       "      <th>0</th>\n",
       "      <td>chase credit card</td>\n",
       "      <td>2063</td>\n",
       "    </tr>\n",
       "    <tr>\n",
       "      <th>1</th>\n",
       "      <td>credit card account</td>\n",
       "      <td>1022</td>\n",
       "    </tr>\n",
       "    <tr>\n",
       "      <th>2</th>\n",
       "      <td>credit card company</td>\n",
       "      <td>991</td>\n",
       "    </tr>\n",
       "    <tr>\n",
       "      <th>3</th>\n",
       "      <td>credit card chase</td>\n",
       "      <td>632</td>\n",
       "    </tr>\n",
       "    <tr>\n",
       "      <th>4</th>\n",
       "      <td>credit card credit</td>\n",
       "      <td>515</td>\n",
       "    </tr>\n",
       "    <tr>\n",
       "      <th>5</th>\n",
       "      <td>inquiry credit report</td>\n",
       "      <td>481</td>\n",
       "    </tr>\n",
       "    <tr>\n",
       "      <th>6</th>\n",
       "      <td>charge credit card</td>\n",
       "      <td>421</td>\n",
       "    </tr>\n",
       "    <tr>\n",
       "      <th>7</th>\n",
       "      <td>xxxx xxxx xxxx</td>\n",
       "      <td>411</td>\n",
       "    </tr>\n",
       "    <tr>\n",
       "      <th>8</th>\n",
       "      <td>account credit card</td>\n",
       "      <td>398</td>\n",
       "    </tr>\n",
       "    <tr>\n",
       "      <th>9</th>\n",
       "      <td>card credit card</td>\n",
       "      <td>388</td>\n",
       "    </tr>\n",
       "  </tbody>\n",
       "</table>\n",
       "</div>"
      ],
      "text/plain": [
       "                 trigram  count\n",
       "0      chase credit card   2063\n",
       "1    credit card account   1022\n",
       "2    credit card company    991\n",
       "3      credit card chase    632\n",
       "4     credit card credit    515\n",
       "5  inquiry credit report    481\n",
       "6     charge credit card    421\n",
       "7         xxxx xxxx xxxx    411\n",
       "8    account credit card    398\n",
       "9       card credit card    388"
      ]
     },
     "execution_count": 34,
     "metadata": {},
     "output_type": "execute_result"
    }
   ],
   "source": [
    "#Print the top 10 words in the trigram frequency\n",
    "df_trigram.head(10)"
   ]
  },
  {
   "cell_type": "markdown",
   "metadata": {},
   "source": [
    "#### The personal details of customer has been masked in the dataset with xxxx. Let's remove the masked text as this will be of no use for our analysis"
   ]
  },
  {
   "cell_type": "code",
   "execution_count": 35,
   "metadata": {
    "id": "wKda-a_IJrF_"
   },
   "outputs": [],
   "source": [
    "df_clean['Complaint_Clean'] = df_clean['Complaint_Clean'].str.replace('xxxx','')"
   ]
  },
  {
   "cell_type": "code",
   "execution_count": 36,
   "metadata": {
    "id": "9UIFk8fQJrF_"
   },
   "outputs": [
    {
     "data": {
      "text/html": [
       "<div>\n",
       "<style scoped>\n",
       "    .dataframe tbody tr th:only-of-type {\n",
       "        vertical-align: middle;\n",
       "    }\n",
       "\n",
       "    .dataframe tbody tr th {\n",
       "        vertical-align: top;\n",
       "    }\n",
       "\n",
       "    .dataframe thead th {\n",
       "        text-align: right;\n",
       "    }\n",
       "</style>\n",
       "<table border=\"1\" class=\"dataframe\">\n",
       "  <thead>\n",
       "    <tr style=\"text-align: right;\">\n",
       "      <th></th>\n",
       "      <th>complaint_what_happened</th>\n",
       "      <th>Complaint_Lemmatized</th>\n",
       "      <th>Complaint_POS_Removed</th>\n",
       "      <th>Complaint_Clean</th>\n",
       "    </tr>\n",
       "  </thead>\n",
       "  <tbody>\n",
       "    <tr>\n",
       "      <th>1</th>\n",
       "      <td>good morning my name is xxxx xxxx and i apprec...</td>\n",
       "      <td>good morning my name be xxxx xxxx and I apprec...</td>\n",
       "      <td>morning name stop bank cardmember service ask ...</td>\n",
       "      <td>morning name stop bank cardmember service ask ...</td>\n",
       "    </tr>\n",
       "    <tr>\n",
       "      <th>2</th>\n",
       "      <td>i upgraded my xxxx xxxx card in  and was told ...</td>\n",
       "      <td>I upgrade my xxxx xxxx card in   and be tell b...</td>\n",
       "      <td>card agent upgrade date agent information orde...</td>\n",
       "      <td>card agent upgrade date agent information orde...</td>\n",
       "    </tr>\n",
       "    <tr>\n",
       "      <th>10</th>\n",
       "      <td>chase card was reported on  however fraudulent...</td>\n",
       "      <td>chase card be report on   however fraudulent a...</td>\n",
       "      <td>card report application identity consent servi...</td>\n",
       "      <td>card report application identity consent servi...</td>\n",
       "    </tr>\n",
       "    <tr>\n",
       "      <th>11</th>\n",
       "      <td>on  while trying to book a xxxx  xxxx  ticket ...</td>\n",
       "      <td>on   while try to book a xxxx   xxxx   ticket ...</td>\n",
       "      <td>try book xxxx ticket offer ticket card informa...</td>\n",
       "      <td>try book  ticket offer ticket card information...</td>\n",
       "    </tr>\n",
       "    <tr>\n",
       "      <th>14</th>\n",
       "      <td>my grand son give me check for  i deposit it i...</td>\n",
       "      <td>my grand son give I check for   I deposit it i...</td>\n",
       "      <td>son chase account fund bank account pay money ...</td>\n",
       "      <td>son chase account fund bank account pay money ...</td>\n",
       "    </tr>\n",
       "  </tbody>\n",
       "</table>\n",
       "</div>"
      ],
      "text/plain": [
       "                              complaint_what_happened  \\\n",
       "1   good morning my name is xxxx xxxx and i apprec...   \n",
       "2   i upgraded my xxxx xxxx card in  and was told ...   \n",
       "10  chase card was reported on  however fraudulent...   \n",
       "11  on  while trying to book a xxxx  xxxx  ticket ...   \n",
       "14  my grand son give me check for  i deposit it i...   \n",
       "\n",
       "                                 Complaint_Lemmatized  \\\n",
       "1   good morning my name be xxxx xxxx and I apprec...   \n",
       "2   I upgrade my xxxx xxxx card in   and be tell b...   \n",
       "10  chase card be report on   however fraudulent a...   \n",
       "11  on   while try to book a xxxx   xxxx   ticket ...   \n",
       "14  my grand son give I check for   I deposit it i...   \n",
       "\n",
       "                                Complaint_POS_Removed  \\\n",
       "1   morning name stop bank cardmember service ask ...   \n",
       "2   card agent upgrade date agent information orde...   \n",
       "10  card report application identity consent servi...   \n",
       "11  try book xxxx ticket offer ticket card informa...   \n",
       "14  son chase account fund bank account pay money ...   \n",
       "\n",
       "                                      Complaint_Clean  \n",
       "1   morning name stop bank cardmember service ask ...  \n",
       "2   card agent upgrade date agent information orde...  \n",
       "10  card report application identity consent servi...  \n",
       "11  try book  ticket offer ticket card information...  \n",
       "14  son chase account fund bank account pay money ...  "
      ]
     },
     "execution_count": 36,
     "metadata": {},
     "output_type": "execute_result"
    }
   ],
   "source": [
    "#All masked texts has been removed\n",
    "df_clean.head()"
   ]
  },
  {
   "cell_type": "code",
   "execution_count": 37,
   "metadata": {},
   "outputs": [
    {
     "data": {
      "text/plain": [
       "(21072, 4)"
      ]
     },
     "execution_count": 37,
     "metadata": {},
     "output_type": "execute_result"
    }
   ],
   "source": [
    "df_clean.shape"
   ]
  },
  {
   "cell_type": "markdown",
   "metadata": {
    "id": "k-I0k0QtJrGA"
   },
   "source": [
    "## Feature Extraction\n",
    "Convert the raw texts to a matrix of TF-IDF features\n",
    "\n",
    "**max_df** is used for removing terms that appear too frequently, also known as \"corpus-specific stop words\"\n",
    "max_df = 0.95 means \"ignore terms that appear in more than 95% of the complaints\"\n",
    "\n",
    "**min_df** is used for removing terms that appear too infrequently\n",
    "min_df = 2 means \"ignore terms that appear in less than 2 complaints\""
   ]
  },
  {
   "cell_type": "code",
   "execution_count": 38,
   "metadata": {
    "id": "Y8fGwaCPJrGA"
   },
   "outputs": [],
   "source": [
    "#Write your code here to initialise the TfidfVectorizer \n",
    "tfidf = TfidfVectorizer(min_df=2, max_df=0.95, stop_words=\"english\")"
   ]
  },
  {
   "cell_type": "markdown",
   "metadata": {
    "id": "yYzD85nTJrGA"
   },
   "source": [
    "#### Create a document term matrix using fit_transform\n",
    "\n",
    "The contents of a document term matrix are tuples of (complaint_id,token_id) tf-idf score:\n",
    "The tuples that are not there have a tf-idf score of 0"
   ]
  },
  {
   "cell_type": "code",
   "execution_count": 40,
   "metadata": {
    "id": "ffzdDpp_JrGB"
   },
   "outputs": [],
   "source": [
    "#Write your code here to create the Document Term Matrix by transforming the complaints column present in df_clean.\n",
    "dtm = tfidf.fit_transform(df_clean[\"Complaint_Clean\"])"
   ]
  },
  {
   "cell_type": "code",
   "execution_count": 41,
   "metadata": {},
   "outputs": [
    {
     "data": {
      "text/plain": [
       "<21072x7263 sparse matrix of type '<class 'numpy.float64'>'\n",
       "\twith 643552 stored elements in Compressed Sparse Row format>"
      ]
     },
     "execution_count": 41,
     "metadata": {},
     "output_type": "execute_result"
    }
   ],
   "source": [
    "dtm"
   ]
  },
  {
   "cell_type": "markdown",
   "metadata": {
    "id": "7Q9lwvNEJrGB"
   },
   "source": [
    "## Topic Modelling using NMF\n",
    "\n",
    "Non-Negative Matrix Factorization (NMF) is an unsupervised technique so there are no labeling of topics that the model will be trained on. The way it works is that, NMF decomposes (or factorizes) high-dimensional vectors into a lower-dimensional representation. These lower-dimensional vectors are non-negative which also means their coefficients are non-negative.\n",
    "\n",
    "In this task you have to perform the following:\n",
    "\n",
    "* Find the best number of clusters \n",
    "* Apply the best number to create word clusters\n",
    "* Inspect & validate the correction of each cluster wrt the complaints \n",
    "* Correct the labels if needed \n",
    "* Map the clusters to topics/cluster names"
   ]
  },
  {
   "cell_type": "code",
   "execution_count": 42,
   "metadata": {
    "id": "amLT4omWJrGB"
   },
   "outputs": [],
   "source": [
    "from sklearn.decomposition import NMF"
   ]
  },
  {
   "cell_type": "markdown",
   "metadata": {
    "id": "0wYR1xUTJrGD"
   },
   "source": [
    "## Manual Topic Modeling\n",
    "You need to do take the trial & error approach to find the best num of topics for your NMF model.\n",
    "\n",
    "The only parameter that is required is the number of components i.e. the number of topics we want. This is the most crucial step in the whole topic modeling process and will greatly affect how good your final topics are."
   ]
  },
  {
   "cell_type": "code",
   "execution_count": 43,
   "metadata": {
    "id": "sgd2A6bhJrGD"
   },
   "outputs": [],
   "source": [
    "#Load your nmf_model with the n_components i.e 5\n",
    "num_topics = 5\n",
    "\n",
    "#keep the random_state =40\n",
    "nmf_model = NMF(n_components=num_topics, random_state=40)"
   ]
  },
  {
   "cell_type": "code",
   "execution_count": 44,
   "metadata": {
    "id": "VPMDYbt_JrGE"
   },
   "outputs": [
    {
     "data": {
      "text/plain": [
       "7263"
      ]
     },
     "execution_count": 44,
     "metadata": {},
     "output_type": "execute_result"
    }
   ],
   "source": [
    "nmf_model.fit(dtm)\n",
    "len(tfidf.get_feature_names_out())"
   ]
  },
  {
   "cell_type": "code",
   "execution_count": 45,
   "metadata": {},
   "outputs": [],
   "source": [
    "ttm = nmf_model.components_"
   ]
  },
  {
   "cell_type": "code",
   "execution_count": 46,
   "metadata": {
    "id": "16kRfat5JrGE",
    "scrolled": true
   },
   "outputs": [
    {
     "data": {
      "text/html": [
       "<div>\n",
       "<style scoped>\n",
       "    .dataframe tbody tr th:only-of-type {\n",
       "        vertical-align: middle;\n",
       "    }\n",
       "\n",
       "    .dataframe tbody tr th {\n",
       "        vertical-align: top;\n",
       "    }\n",
       "\n",
       "    .dataframe thead th {\n",
       "        text-align: right;\n",
       "    }\n",
       "</style>\n",
       "<table border=\"1\" class=\"dataframe\">\n",
       "  <thead>\n",
       "    <tr style=\"text-align: right;\">\n",
       "      <th></th>\n",
       "      <th>Word 1</th>\n",
       "      <th>Word 2</th>\n",
       "      <th>Word 3</th>\n",
       "      <th>Word 4</th>\n",
       "      <th>Word 5</th>\n",
       "      <th>Word 6</th>\n",
       "      <th>Word 7</th>\n",
       "      <th>Word 8</th>\n",
       "      <th>Word 9</th>\n",
       "      <th>Word 10</th>\n",
       "      <th>Word 11</th>\n",
       "      <th>Word 12</th>\n",
       "      <th>Word 13</th>\n",
       "      <th>Word 14</th>\n",
       "      <th>Word 15</th>\n",
       "    </tr>\n",
       "  </thead>\n",
       "  <tbody>\n",
       "    <tr>\n",
       "      <th>Topic 1</th>\n",
       "      <td>account</td>\n",
       "      <td>check</td>\n",
       "      <td>bank</td>\n",
       "      <td>money</td>\n",
       "      <td>fund</td>\n",
       "      <td>chase</td>\n",
       "      <td>deposit</td>\n",
       "      <td>branch</td>\n",
       "      <td>day</td>\n",
       "      <td>number</td>\n",
       "      <td>business</td>\n",
       "      <td>transaction</td>\n",
       "      <td>claim</td>\n",
       "      <td>transfer</td>\n",
       "      <td>customer</td>\n",
       "    </tr>\n",
       "    <tr>\n",
       "      <th>Topic 2</th>\n",
       "      <td>credit</td>\n",
       "      <td>card</td>\n",
       "      <td>report</td>\n",
       "      <td>inquiry</td>\n",
       "      <td>chase</td>\n",
       "      <td>account</td>\n",
       "      <td>score</td>\n",
       "      <td>company</td>\n",
       "      <td>limit</td>\n",
       "      <td>information</td>\n",
       "      <td>debt</td>\n",
       "      <td>application</td>\n",
       "      <td>letter</td>\n",
       "      <td>year</td>\n",
       "      <td>balance</td>\n",
       "    </tr>\n",
       "    <tr>\n",
       "      <th>Topic 3</th>\n",
       "      <td>payment</td>\n",
       "      <td>balance</td>\n",
       "      <td>month</td>\n",
       "      <td>fee</td>\n",
       "      <td>statement</td>\n",
       "      <td>day</td>\n",
       "      <td>time</td>\n",
       "      <td>auto</td>\n",
       "      <td>date</td>\n",
       "      <td>pay</td>\n",
       "      <td>credit</td>\n",
       "      <td>account</td>\n",
       "      <td>chase</td>\n",
       "      <td>year</td>\n",
       "      <td>mortgage</td>\n",
       "    </tr>\n",
       "    <tr>\n",
       "      <th>Topic 4</th>\n",
       "      <td>charge</td>\n",
       "      <td>card</td>\n",
       "      <td>fee</td>\n",
       "      <td>transaction</td>\n",
       "      <td>dispute</td>\n",
       "      <td>chase</td>\n",
       "      <td>merchant</td>\n",
       "      <td>fraud</td>\n",
       "      <td>claim</td>\n",
       "      <td>purchase</td>\n",
       "      <td>service</td>\n",
       "      <td>time</td>\n",
       "      <td>statement</td>\n",
       "      <td>refund</td>\n",
       "      <td>company</td>\n",
       "    </tr>\n",
       "    <tr>\n",
       "      <th>Topic 5</th>\n",
       "      <td>loan</td>\n",
       "      <td>mortgage</td>\n",
       "      <td>home</td>\n",
       "      <td>modification</td>\n",
       "      <td>chase</td>\n",
       "      <td>property</td>\n",
       "      <td>year</td>\n",
       "      <td>letter</td>\n",
       "      <td>rate</td>\n",
       "      <td>time</td>\n",
       "      <td>document</td>\n",
       "      <td>bank</td>\n",
       "      <td>house</td>\n",
       "      <td>foreclosure</td>\n",
       "      <td>sale</td>\n",
       "    </tr>\n",
       "  </tbody>\n",
       "</table>\n",
       "</div>"
      ],
      "text/plain": [
       "          Word 1    Word 2  Word 3        Word 4     Word 5    Word 6  \\\n",
       "Topic 1  account     check    bank         money       fund     chase   \n",
       "Topic 2   credit      card  report       inquiry      chase   account   \n",
       "Topic 3  payment   balance   month           fee  statement       day   \n",
       "Topic 4   charge      card     fee   transaction    dispute     chase   \n",
       "Topic 5     loan  mortgage    home  modification      chase  property   \n",
       "\n",
       "           Word 7   Word 8 Word 9      Word 10   Word 11      Word 12  \\\n",
       "Topic 1   deposit   branch    day       number  business  transaction   \n",
       "Topic 2     score  company  limit  information      debt  application   \n",
       "Topic 3      time     auto   date          pay    credit      account   \n",
       "Topic 4  merchant    fraud  claim     purchase   service         time   \n",
       "Topic 5      year   letter   rate         time  document         bank   \n",
       "\n",
       "           Word 13      Word 14   Word 15  \n",
       "Topic 1      claim     transfer  customer  \n",
       "Topic 2     letter         year   balance  \n",
       "Topic 3      chase         year  mortgage  \n",
       "Topic 4  statement       refund   company  \n",
       "Topic 5      house  foreclosure      sale  "
      ]
     },
     "execution_count": 46,
     "metadata": {},
     "output_type": "execute_result"
    }
   ],
   "source": [
    "#Print the Top15 words for each of the topics\n",
    "\n",
    "words = np.array(tfidf.get_feature_names_out())\n",
    "topic_words = pd.DataFrame(np.zeros((num_topics, 15)), index=[f\"Topic {i + 1}\" for i in range(num_topics)],\n",
    "                           columns=[f\"Word {i + 1}\" for i in range(15)]).astype(str)\n",
    "for i in range(num_topics):\n",
    "    ix = ttm[i].argsort()[::-1][:15]\n",
    "    topic_words.iloc[i] = words[ix]\n",
    "\n",
    "topic_words"
   ]
  },
  {
   "cell_type": "code",
   "execution_count": 47,
   "metadata": {
    "id": "0OIT7LmFJrGF"
   },
   "outputs": [],
   "source": [
    "#Create the best topic for each complaint in terms of integer value 0,1,2,3 & 4\n",
    "topic_results = nmf_model.transform(dtm)"
   ]
  },
  {
   "cell_type": "code",
   "execution_count": 48,
   "metadata": {
    "id": "peyYv-ORJrGF"
   },
   "outputs": [],
   "source": [
    "#Assign the best topic to each of the complaints in Topic Column\n",
    "df_clean[\"Topic\"] = topic_results.argmax(axis=1)"
   ]
  },
  {
   "cell_type": "code",
   "execution_count": 49,
   "metadata": {
    "id": "fLh_Gf3nJrGF"
   },
   "outputs": [
    {
     "data": {
      "text/html": [
       "<div>\n",
       "<style scoped>\n",
       "    .dataframe tbody tr th:only-of-type {\n",
       "        vertical-align: middle;\n",
       "    }\n",
       "\n",
       "    .dataframe tbody tr th {\n",
       "        vertical-align: top;\n",
       "    }\n",
       "\n",
       "    .dataframe thead th {\n",
       "        text-align: right;\n",
       "    }\n",
       "</style>\n",
       "<table border=\"1\" class=\"dataframe\">\n",
       "  <thead>\n",
       "    <tr style=\"text-align: right;\">\n",
       "      <th></th>\n",
       "      <th>complaint_what_happened</th>\n",
       "      <th>Complaint_Lemmatized</th>\n",
       "      <th>Complaint_POS_Removed</th>\n",
       "      <th>Complaint_Clean</th>\n",
       "      <th>Topic</th>\n",
       "    </tr>\n",
       "  </thead>\n",
       "  <tbody>\n",
       "    <tr>\n",
       "      <th>1</th>\n",
       "      <td>good morning my name is xxxx xxxx and i apprec...</td>\n",
       "      <td>good morning my name be xxxx xxxx and I apprec...</td>\n",
       "      <td>morning name stop bank cardmember service ask ...</td>\n",
       "      <td>morning name stop bank cardmember service ask ...</td>\n",
       "      <td>0</td>\n",
       "    </tr>\n",
       "    <tr>\n",
       "      <th>2</th>\n",
       "      <td>i upgraded my xxxx xxxx card in  and was told ...</td>\n",
       "      <td>I upgrade my xxxx xxxx card in   and be tell b...</td>\n",
       "      <td>card agent upgrade date agent information orde...</td>\n",
       "      <td>card agent upgrade date agent information orde...</td>\n",
       "      <td>1</td>\n",
       "    </tr>\n",
       "    <tr>\n",
       "      <th>10</th>\n",
       "      <td>chase card was reported on  however fraudulent...</td>\n",
       "      <td>chase card be report on   however fraudulent a...</td>\n",
       "      <td>card report application identity consent servi...</td>\n",
       "      <td>card report application identity consent servi...</td>\n",
       "      <td>1</td>\n",
       "    </tr>\n",
       "    <tr>\n",
       "      <th>11</th>\n",
       "      <td>on  while trying to book a xxxx  xxxx  ticket ...</td>\n",
       "      <td>on   while try to book a xxxx   xxxx   ticket ...</td>\n",
       "      <td>try book xxxx ticket offer ticket card informa...</td>\n",
       "      <td>try book  ticket offer ticket card information...</td>\n",
       "      <td>1</td>\n",
       "    </tr>\n",
       "    <tr>\n",
       "      <th>14</th>\n",
       "      <td>my grand son give me check for  i deposit it i...</td>\n",
       "      <td>my grand son give I check for   I deposit it i...</td>\n",
       "      <td>son chase account fund bank account pay money ...</td>\n",
       "      <td>son chase account fund bank account pay money ...</td>\n",
       "      <td>0</td>\n",
       "    </tr>\n",
       "  </tbody>\n",
       "</table>\n",
       "</div>"
      ],
      "text/plain": [
       "                              complaint_what_happened  \\\n",
       "1   good morning my name is xxxx xxxx and i apprec...   \n",
       "2   i upgraded my xxxx xxxx card in  and was told ...   \n",
       "10  chase card was reported on  however fraudulent...   \n",
       "11  on  while trying to book a xxxx  xxxx  ticket ...   \n",
       "14  my grand son give me check for  i deposit it i...   \n",
       "\n",
       "                                 Complaint_Lemmatized  \\\n",
       "1   good morning my name be xxxx xxxx and I apprec...   \n",
       "2   I upgrade my xxxx xxxx card in   and be tell b...   \n",
       "10  chase card be report on   however fraudulent a...   \n",
       "11  on   while try to book a xxxx   xxxx   ticket ...   \n",
       "14  my grand son give I check for   I deposit it i...   \n",
       "\n",
       "                                Complaint_POS_Removed  \\\n",
       "1   morning name stop bank cardmember service ask ...   \n",
       "2   card agent upgrade date agent information orde...   \n",
       "10  card report application identity consent servi...   \n",
       "11  try book xxxx ticket offer ticket card informa...   \n",
       "14  son chase account fund bank account pay money ...   \n",
       "\n",
       "                                      Complaint_Clean  Topic  \n",
       "1   morning name stop bank cardmember service ask ...      0  \n",
       "2   card agent upgrade date agent information orde...      1  \n",
       "10  card report application identity consent servi...      1  \n",
       "11  try book  ticket offer ticket card information...      1  \n",
       "14  son chase account fund bank account pay money ...      0  "
      ]
     },
     "execution_count": 49,
     "metadata": {},
     "output_type": "execute_result"
    }
   ],
   "source": [
    "# Checking the df_clean dataframe\n",
    "df_clean.head()"
   ]
  },
  {
   "cell_type": "code",
   "execution_count": 50,
   "metadata": {
    "id": "aQKpufSPJrGG"
   },
   "outputs": [
    {
     "data": {
      "text/html": [
       "<div>\n",
       "<style scoped>\n",
       "    .dataframe tbody tr th:only-of-type {\n",
       "        vertical-align: middle;\n",
       "    }\n",
       "\n",
       "    .dataframe tbody tr th {\n",
       "        vertical-align: top;\n",
       "    }\n",
       "\n",
       "    .dataframe thead th {\n",
       "        text-align: right;\n",
       "    }\n",
       "</style>\n",
       "<table border=\"1\" class=\"dataframe\">\n",
       "  <thead>\n",
       "    <tr style=\"text-align: right;\">\n",
       "      <th></th>\n",
       "      <th>complaint_what_happened</th>\n",
       "      <th>Complaint_Lemmatized</th>\n",
       "      <th>Complaint_POS_Removed</th>\n",
       "      <th>Complaint_Clean</th>\n",
       "      <th>Topic</th>\n",
       "    </tr>\n",
       "  </thead>\n",
       "  <tbody>\n",
       "    <tr>\n",
       "      <th>1</th>\n",
       "      <td>good morning my name is xxxx xxxx and i apprec...</td>\n",
       "      <td>good morning my name be xxxx xxxx and I apprec...</td>\n",
       "      <td>morning name stop bank cardmember service ask ...</td>\n",
       "      <td>morning name stop bank cardmember service ask ...</td>\n",
       "      <td>0</td>\n",
       "    </tr>\n",
       "    <tr>\n",
       "      <th>14</th>\n",
       "      <td>my grand son give me check for  i deposit it i...</td>\n",
       "      <td>my grand son give I check for   I deposit it i...</td>\n",
       "      <td>son chase account fund bank account pay money ...</td>\n",
       "      <td>son chase account fund bank account pay money ...</td>\n",
       "      <td>0</td>\n",
       "    </tr>\n",
       "    <tr>\n",
       "      <th>17</th>\n",
       "      <td>with out notice jp morgan chase restricted my ...</td>\n",
       "      <td>with out notice jp morgan chase restrict my ac...</td>\n",
       "      <td>jp chase account debit card tuesday thursday b...</td>\n",
       "      <td>jp chase account debit card tuesday thursday b...</td>\n",
       "      <td>0</td>\n",
       "    </tr>\n",
       "    <tr>\n",
       "      <th>24</th>\n",
       "      <td>mishandling of this account by chase auto and ...</td>\n",
       "      <td>mishandle of this account by chase auto and xxxx</td>\n",
       "      <td>mishandle account auto xxxx</td>\n",
       "      <td>mishandle account auto</td>\n",
       "      <td>0</td>\n",
       "    </tr>\n",
       "    <tr>\n",
       "      <th>27</th>\n",
       "      <td>i opened an account with chase bank on xxxx an...</td>\n",
       "      <td>I open an account with chase bank on xxxx and ...</td>\n",
       "      <td>account bank code bonus term everything accoun...</td>\n",
       "      <td>account bank code bonus term everything accoun...</td>\n",
       "      <td>0</td>\n",
       "    </tr>\n",
       "    <tr>\n",
       "      <th>2</th>\n",
       "      <td>i upgraded my xxxx xxxx card in  and was told ...</td>\n",
       "      <td>I upgrade my xxxx xxxx card in   and be tell b...</td>\n",
       "      <td>card agent upgrade date agent information orde...</td>\n",
       "      <td>card agent upgrade date agent information orde...</td>\n",
       "      <td>1</td>\n",
       "    </tr>\n",
       "    <tr>\n",
       "      <th>10</th>\n",
       "      <td>chase card was reported on  however fraudulent...</td>\n",
       "      <td>chase card be report on   however fraudulent a...</td>\n",
       "      <td>card report application identity consent servi...</td>\n",
       "      <td>card report application identity consent servi...</td>\n",
       "      <td>1</td>\n",
       "    </tr>\n",
       "    <tr>\n",
       "      <th>11</th>\n",
       "      <td>on  while trying to book a xxxx  xxxx  ticket ...</td>\n",
       "      <td>on   while try to book a xxxx   xxxx   ticket ...</td>\n",
       "      <td>try book xxxx ticket offer ticket card informa...</td>\n",
       "      <td>try book  ticket offer ticket card information...</td>\n",
       "      <td>1</td>\n",
       "    </tr>\n",
       "    <tr>\n",
       "      <th>15</th>\n",
       "      <td>can you please remove inquiry</td>\n",
       "      <td>can you please remove inquiry</td>\n",
       "      <td>inquiry</td>\n",
       "      <td>inquiry</td>\n",
       "      <td>1</td>\n",
       "    </tr>\n",
       "    <tr>\n",
       "      <th>23</th>\n",
       "      <td>i have a chase credit card which is incorrectl...</td>\n",
       "      <td>I have a chase credit card which be incorrectl...</td>\n",
       "      <td>chase credit card datum credit report company ...</td>\n",
       "      <td>chase credit card datum credit report company ...</td>\n",
       "      <td>1</td>\n",
       "    </tr>\n",
       "    <tr>\n",
       "      <th>82</th>\n",
       "      <td>i recently called to ask chase bank why they r...</td>\n",
       "      <td>I recently call to ask chase bank why they rep...</td>\n",
       "      <td>bank credit bureau day payment info xxxx bill ...</td>\n",
       "      <td>bank credit bureau day payment info  bill bala...</td>\n",
       "      <td>2</td>\n",
       "    </tr>\n",
       "    <tr>\n",
       "      <th>58</th>\n",
       "      <td>i made a purchase of  on xxxxxxxx i made payme...</td>\n",
       "      <td>I make a purchase of   on xxxxxxxx I make paym...</td>\n",
       "      <td>purchase xxxxxxxx payment xxxxxxxx payment clo...</td>\n",
       "      <td>purchase  payment  payment closing date please...</td>\n",
       "      <td>2</td>\n",
       "    </tr>\n",
       "    <tr>\n",
       "      <th>167</th>\n",
       "      <td>a double payment from my chase debt cart to ch...</td>\n",
       "      <td>a double payment from my chase debt cart to ch...</td>\n",
       "      <td>payment debt cart credit card post request day...</td>\n",
       "      <td>payment debt cart credit card post request day...</td>\n",
       "      <td>2</td>\n",
       "    </tr>\n",
       "    <tr>\n",
       "      <th>20</th>\n",
       "      <td>during the summer months i experience a declin...</td>\n",
       "      <td>during the summer month I experience a decline...</td>\n",
       "      <td>summer month income employment month payment e...</td>\n",
       "      <td>summer month income employment month payment e...</td>\n",
       "      <td>2</td>\n",
       "    </tr>\n",
       "    <tr>\n",
       "      <th>141</th>\n",
       "      <td>action taken by the company between the dates ...</td>\n",
       "      <td>action take by the company between the date of...</td>\n",
       "      <td>action company date individual group contact c...</td>\n",
       "      <td>action company date individual group contact c...</td>\n",
       "      <td>2</td>\n",
       "    </tr>\n",
       "    <tr>\n",
       "      <th>32</th>\n",
       "      <td>my chase amazon card was declined for a cateri...</td>\n",
       "      <td>my chase amazon card be decline for a catering...</td>\n",
       "      <td>chase card decline catering order place brothe...</td>\n",
       "      <td>chase card decline catering order place brothe...</td>\n",
       "      <td>3</td>\n",
       "    </tr>\n",
       "    <tr>\n",
       "      <th>40</th>\n",
       "      <td>xxxx xxxx a sofa love seat table and chairs an...</td>\n",
       "      <td>xxxx xxxx a sofa love seat table and chair and...</td>\n",
       "      <td>xxxx love seat table chair charge bank claim f...</td>\n",
       "      <td>love seat table chair charge bank claim furni...</td>\n",
       "      <td>3</td>\n",
       "    </tr>\n",
       "    <tr>\n",
       "      <th>45</th>\n",
       "      <td>i made a purchase with xxxx xxxx xxxx on  in t...</td>\n",
       "      <td>I make a purchase with xxxx xxxx xxxx on   in ...</td>\n",
       "      <td>purchase amount transaction dispute case bank ...</td>\n",
       "      <td>purchase amount transaction dispute case bank ...</td>\n",
       "      <td>3</td>\n",
       "    </tr>\n",
       "    <tr>\n",
       "      <th>21</th>\n",
       "      <td>on xxxx  i made a  payment to an online retail...</td>\n",
       "      <td>on xxxx   I make a   payment to an online reta...</td>\n",
       "      <td>xxxx payment online retailer use pay xxxx chas...</td>\n",
       "      <td>payment online retailer use pay  chase websit...</td>\n",
       "      <td>3</td>\n",
       "    </tr>\n",
       "    <tr>\n",
       "      <th>30</th>\n",
       "      <td>to whom it may concern chase bank charged wron...</td>\n",
       "      <td>to whom it may concern chase bank charge wrong...</td>\n",
       "      <td>concern bank charge fee balance fee balance tr...</td>\n",
       "      <td>concern bank charge fee balance fee balance tr...</td>\n",
       "      <td>3</td>\n",
       "    </tr>\n",
       "    <tr>\n",
       "      <th>57</th>\n",
       "      <td>i have been trying to do a loan modification w...</td>\n",
       "      <td>I have be try to do a loan modification with c...</td>\n",
       "      <td>loan modification chase runaround payment doc</td>\n",
       "      <td>loan modification chase runaround payment doc</td>\n",
       "      <td>4</td>\n",
       "    </tr>\n",
       "    <tr>\n",
       "      <th>73</th>\n",
       "      <td>i have wired through one of chase branches in ...</td>\n",
       "      <td>I have wire through one of chase branch in xxx...</td>\n",
       "      <td>chase branch reinstatement amount bank order f...</td>\n",
       "      <td>chase branch reinstatement amount bank order f...</td>\n",
       "      <td>4</td>\n",
       "    </tr>\n",
       "    <tr>\n",
       "      <th>81</th>\n",
       "      <td>i bought a new xxxx xxxx on xxxxxxxx from xxxx...</td>\n",
       "      <td>I buy a new xxxx xxxx on xxxxxxxx from xxxx xx...</td>\n",
       "      <td>xxxx xxxxxxxx loan title time resolution time ...</td>\n",
       "      <td>loan title time resolution time nothing stat...</td>\n",
       "      <td>4</td>\n",
       "    </tr>\n",
       "    <tr>\n",
       "      <th>99</th>\n",
       "      <td>my name is xxxx xxxx i have missed a payment i...</td>\n",
       "      <td>my name be xxxx xxxx I have miss a payment in ...</td>\n",
       "      <td>name xxxx payment day time loan modification l...</td>\n",
       "      <td>name  payment day time loan modification loss ...</td>\n",
       "      <td>4</td>\n",
       "    </tr>\n",
       "    <tr>\n",
       "      <th>127</th>\n",
       "      <td>i am xxxx military member  xxxx  with the xxxx...</td>\n",
       "      <td>I be xxxx military member   xxxx   with the xx...</td>\n",
       "      <td>member xxxx auto finance gap insurancewaiver c...</td>\n",
       "      <td>member  auto finance gap insurancewaiver cover...</td>\n",
       "      <td>4</td>\n",
       "    </tr>\n",
       "  </tbody>\n",
       "</table>\n",
       "</div>"
      ],
      "text/plain": [
       "                               complaint_what_happened  \\\n",
       "1    good morning my name is xxxx xxxx and i apprec...   \n",
       "14   my grand son give me check for  i deposit it i...   \n",
       "17   with out notice jp morgan chase restricted my ...   \n",
       "24   mishandling of this account by chase auto and ...   \n",
       "27   i opened an account with chase bank on xxxx an...   \n",
       "2    i upgraded my xxxx xxxx card in  and was told ...   \n",
       "10   chase card was reported on  however fraudulent...   \n",
       "11   on  while trying to book a xxxx  xxxx  ticket ...   \n",
       "15                       can you please remove inquiry   \n",
       "23   i have a chase credit card which is incorrectl...   \n",
       "82   i recently called to ask chase bank why they r...   \n",
       "58   i made a purchase of  on xxxxxxxx i made payme...   \n",
       "167  a double payment from my chase debt cart to ch...   \n",
       "20   during the summer months i experience a declin...   \n",
       "141  action taken by the company between the dates ...   \n",
       "32   my chase amazon card was declined for a cateri...   \n",
       "40   xxxx xxxx a sofa love seat table and chairs an...   \n",
       "45   i made a purchase with xxxx xxxx xxxx on  in t...   \n",
       "21   on xxxx  i made a  payment to an online retail...   \n",
       "30   to whom it may concern chase bank charged wron...   \n",
       "57   i have been trying to do a loan modification w...   \n",
       "73   i have wired through one of chase branches in ...   \n",
       "81   i bought a new xxxx xxxx on xxxxxxxx from xxxx...   \n",
       "99   my name is xxxx xxxx i have missed a payment i...   \n",
       "127  i am xxxx military member  xxxx  with the xxxx...   \n",
       "\n",
       "                                  Complaint_Lemmatized  \\\n",
       "1    good morning my name be xxxx xxxx and I apprec...   \n",
       "14   my grand son give I check for   I deposit it i...   \n",
       "17   with out notice jp morgan chase restrict my ac...   \n",
       "24    mishandle of this account by chase auto and xxxx   \n",
       "27   I open an account with chase bank on xxxx and ...   \n",
       "2    I upgrade my xxxx xxxx card in   and be tell b...   \n",
       "10   chase card be report on   however fraudulent a...   \n",
       "11   on   while try to book a xxxx   xxxx   ticket ...   \n",
       "15                       can you please remove inquiry   \n",
       "23   I have a chase credit card which be incorrectl...   \n",
       "82   I recently call to ask chase bank why they rep...   \n",
       "58   I make a purchase of   on xxxxxxxx I make paym...   \n",
       "167  a double payment from my chase debt cart to ch...   \n",
       "20   during the summer month I experience a decline...   \n",
       "141  action take by the company between the date of...   \n",
       "32   my chase amazon card be decline for a catering...   \n",
       "40   xxxx xxxx a sofa love seat table and chair and...   \n",
       "45   I make a purchase with xxxx xxxx xxxx on   in ...   \n",
       "21   on xxxx   I make a   payment to an online reta...   \n",
       "30   to whom it may concern chase bank charge wrong...   \n",
       "57   I have be try to do a loan modification with c...   \n",
       "73   I have wire through one of chase branch in xxx...   \n",
       "81   I buy a new xxxx xxxx on xxxxxxxx from xxxx xx...   \n",
       "99   my name be xxxx xxxx I have miss a payment in ...   \n",
       "127  I be xxxx military member   xxxx   with the xx...   \n",
       "\n",
       "                                 Complaint_POS_Removed  \\\n",
       "1    morning name stop bank cardmember service ask ...   \n",
       "14   son chase account fund bank account pay money ...   \n",
       "17   jp chase account debit card tuesday thursday b...   \n",
       "24                         mishandle account auto xxxx   \n",
       "27   account bank code bonus term everything accoun...   \n",
       "2    card agent upgrade date agent information orde...   \n",
       "10   card report application identity consent servi...   \n",
       "11   try book xxxx ticket offer ticket card informa...   \n",
       "15                                             inquiry   \n",
       "23   chase credit card datum credit report company ...   \n",
       "82   bank credit bureau day payment info xxxx bill ...   \n",
       "58   purchase xxxxxxxx payment xxxxxxxx payment clo...   \n",
       "167  payment debt cart credit card post request day...   \n",
       "20   summer month income employment month payment e...   \n",
       "141  action company date individual group contact c...   \n",
       "32   chase card decline catering order place brothe...   \n",
       "40   xxxx love seat table chair charge bank claim f...   \n",
       "45   purchase amount transaction dispute case bank ...   \n",
       "21   xxxx payment online retailer use pay xxxx chas...   \n",
       "30   concern bank charge fee balance fee balance tr...   \n",
       "57       loan modification chase runaround payment doc   \n",
       "73   chase branch reinstatement amount bank order f...   \n",
       "81   xxxx xxxxxxxx loan title time resolution time ...   \n",
       "99   name xxxx payment day time loan modification l...   \n",
       "127  member xxxx auto finance gap insurancewaiver c...   \n",
       "\n",
       "                                       Complaint_Clean  Topic  \n",
       "1    morning name stop bank cardmember service ask ...      0  \n",
       "14   son chase account fund bank account pay money ...      0  \n",
       "17   jp chase account debit card tuesday thursday b...      0  \n",
       "24                             mishandle account auto       0  \n",
       "27   account bank code bonus term everything accoun...      0  \n",
       "2    card agent upgrade date agent information orde...      1  \n",
       "10   card report application identity consent servi...      1  \n",
       "11   try book  ticket offer ticket card information...      1  \n",
       "15                                             inquiry      1  \n",
       "23   chase credit card datum credit report company ...      1  \n",
       "82   bank credit bureau day payment info  bill bala...      2  \n",
       "58   purchase  payment  payment closing date please...      2  \n",
       "167  payment debt cart credit card post request day...      2  \n",
       "20   summer month income employment month payment e...      2  \n",
       "141  action company date individual group contact c...      2  \n",
       "32   chase card decline catering order place brothe...      3  \n",
       "40    love seat table chair charge bank claim furni...      3  \n",
       "45   purchase amount transaction dispute case bank ...      3  \n",
       "21    payment online retailer use pay  chase websit...      3  \n",
       "30   concern bank charge fee balance fee balance tr...      3  \n",
       "57       loan modification chase runaround payment doc      4  \n",
       "73   chase branch reinstatement amount bank order f...      4  \n",
       "81     loan title time resolution time nothing stat...      4  \n",
       "99   name  payment day time loan modification loss ...      4  \n",
       "127  member  auto finance gap insurancewaiver cover...      4  "
      ]
     },
     "execution_count": 50,
     "metadata": {},
     "output_type": "execute_result"
    }
   ],
   "source": [
    "#Print the first 5 Complaint for each of the Topics\n",
    "df_clean_top5=df_clean.groupby(\"Topic\").head(5)\n",
    "df_clean_top5.sort_values(\"Topic\")"
   ]
  },
  {
   "cell_type": "markdown",
   "metadata": {
    "id": "piyLxzj6v07j"
   },
   "source": [
    "#### After evaluating the mapping, if the topics assigned are correct then assign these names to the relevant topic:\n",
    "* Bank Account services\n",
    "* Credit card or prepaid card\n",
    "* Theft/Dispute Reporting\n",
    "* Mortgage/Loan\n",
    "* Others"
   ]
  },
  {
   "cell_type": "code",
   "execution_count": 51,
   "metadata": {
    "id": "TWpwDG4RJrGG"
   },
   "outputs": [],
   "source": [
    "#Create the dictionary of Topic names and Topics\n",
    "\n",
    "Topic_names = {0:\"Bank account services\", 1:\"Credit card / Prepaid card\", 2:\"Others\",\n",
    "               3:\"Theft/Dispute reporting\", 4:\"Mortgages/loans\"}\n",
    "#Replace Topics with Topic Names\n",
    "df_clean[\"Topic\"] = df_clean[\"Topic\"].map(Topic_names)"
   ]
  },
  {
   "cell_type": "code",
   "execution_count": 52,
   "metadata": {
    "id": "-2ULY5K6JrGG"
   },
   "outputs": [
    {
     "data": {
      "text/plain": [
       "(21072, 5)"
      ]
     },
     "execution_count": 52,
     "metadata": {},
     "output_type": "execute_result"
    }
   ],
   "source": [
    "# Checking the Shape\n",
    "df_clean.shape"
   ]
  },
  {
   "cell_type": "code",
   "execution_count": 53,
   "metadata": {},
   "outputs": [
    {
     "data": {
      "text/html": [
       "<div>\n",
       "<style scoped>\n",
       "    .dataframe tbody tr th:only-of-type {\n",
       "        vertical-align: middle;\n",
       "    }\n",
       "\n",
       "    .dataframe tbody tr th {\n",
       "        vertical-align: top;\n",
       "    }\n",
       "\n",
       "    .dataframe thead th {\n",
       "        text-align: right;\n",
       "    }\n",
       "</style>\n",
       "<table border=\"1\" class=\"dataframe\">\n",
       "  <thead>\n",
       "    <tr style=\"text-align: right;\">\n",
       "      <th></th>\n",
       "      <th>complaint_what_happened</th>\n",
       "      <th>Complaint_Lemmatized</th>\n",
       "      <th>Complaint_POS_Removed</th>\n",
       "      <th>Complaint_Clean</th>\n",
       "      <th>Topic</th>\n",
       "    </tr>\n",
       "  </thead>\n",
       "  <tbody>\n",
       "    <tr>\n",
       "      <th>1</th>\n",
       "      <td>good morning my name is xxxx xxxx and i apprec...</td>\n",
       "      <td>good morning my name be xxxx xxxx and I apprec...</td>\n",
       "      <td>morning name stop bank cardmember service ask ...</td>\n",
       "      <td>morning name stop bank cardmember service ask ...</td>\n",
       "      <td>Bank account services</td>\n",
       "    </tr>\n",
       "    <tr>\n",
       "      <th>2</th>\n",
       "      <td>i upgraded my xxxx xxxx card in  and was told ...</td>\n",
       "      <td>I upgrade my xxxx xxxx card in   and be tell b...</td>\n",
       "      <td>card agent upgrade date agent information orde...</td>\n",
       "      <td>card agent upgrade date agent information orde...</td>\n",
       "      <td>Credit card / Prepaid card</td>\n",
       "    </tr>\n",
       "    <tr>\n",
       "      <th>10</th>\n",
       "      <td>chase card was reported on  however fraudulent...</td>\n",
       "      <td>chase card be report on   however fraudulent a...</td>\n",
       "      <td>card report application identity consent servi...</td>\n",
       "      <td>card report application identity consent servi...</td>\n",
       "      <td>Credit card / Prepaid card</td>\n",
       "    </tr>\n",
       "    <tr>\n",
       "      <th>11</th>\n",
       "      <td>on  while trying to book a xxxx  xxxx  ticket ...</td>\n",
       "      <td>on   while try to book a xxxx   xxxx   ticket ...</td>\n",
       "      <td>try book xxxx ticket offer ticket card informa...</td>\n",
       "      <td>try book  ticket offer ticket card information...</td>\n",
       "      <td>Credit card / Prepaid card</td>\n",
       "    </tr>\n",
       "    <tr>\n",
       "      <th>14</th>\n",
       "      <td>my grand son give me check for  i deposit it i...</td>\n",
       "      <td>my grand son give I check for   I deposit it i...</td>\n",
       "      <td>son chase account fund bank account pay money ...</td>\n",
       "      <td>son chase account fund bank account pay money ...</td>\n",
       "      <td>Bank account services</td>\n",
       "    </tr>\n",
       "  </tbody>\n",
       "</table>\n",
       "</div>"
      ],
      "text/plain": [
       "                              complaint_what_happened  \\\n",
       "1   good morning my name is xxxx xxxx and i apprec...   \n",
       "2   i upgraded my xxxx xxxx card in  and was told ...   \n",
       "10  chase card was reported on  however fraudulent...   \n",
       "11  on  while trying to book a xxxx  xxxx  ticket ...   \n",
       "14  my grand son give me check for  i deposit it i...   \n",
       "\n",
       "                                 Complaint_Lemmatized  \\\n",
       "1   good morning my name be xxxx xxxx and I apprec...   \n",
       "2   I upgrade my xxxx xxxx card in   and be tell b...   \n",
       "10  chase card be report on   however fraudulent a...   \n",
       "11  on   while try to book a xxxx   xxxx   ticket ...   \n",
       "14  my grand son give I check for   I deposit it i...   \n",
       "\n",
       "                                Complaint_POS_Removed  \\\n",
       "1   morning name stop bank cardmember service ask ...   \n",
       "2   card agent upgrade date agent information orde...   \n",
       "10  card report application identity consent servi...   \n",
       "11  try book xxxx ticket offer ticket card informa...   \n",
       "14  son chase account fund bank account pay money ...   \n",
       "\n",
       "                                      Complaint_Clean  \\\n",
       "1   morning name stop bank cardmember service ask ...   \n",
       "2   card agent upgrade date agent information orde...   \n",
       "10  card report application identity consent servi...   \n",
       "11  try book  ticket offer ticket card information...   \n",
       "14  son chase account fund bank account pay money ...   \n",
       "\n",
       "                         Topic  \n",
       "1        Bank account services  \n",
       "2   Credit card / Prepaid card  \n",
       "10  Credit card / Prepaid card  \n",
       "11  Credit card / Prepaid card  \n",
       "14       Bank account services  "
      ]
     },
     "execution_count": 53,
     "metadata": {},
     "output_type": "execute_result"
    }
   ],
   "source": [
    "# Checking the df_clean dataframe\n",
    "df_clean.head()"
   ]
  },
  {
   "cell_type": "markdown",
   "metadata": {
    "id": "7Mu0QBOcJrGH"
   },
   "source": [
    "## Supervised model to predict any new complaints to the relevant Topics.\n",
    "\n",
    "You have now build the model to create the topics for each complaints.Now in the below section you will use them to classify any new complaints.\n",
    "\n",
    "Since you will be using supervised learning technique we have to convert the topic names to numbers(numpy arrays only understand numbers)"
   ]
  },
  {
   "cell_type": "code",
   "execution_count": 54,
   "metadata": {
    "id": "_U8J3J8wJrGH"
   },
   "outputs": [],
   "source": [
    "#Create the dictionary again of Topic names and Topics\n",
    "\n",
    "Topic_names = {\"Bank account services\":0, \"Credit card / Prepaid card\":1, \"Others\":2,\n",
    "               \"Theft/Dispute reporting\":3, \"Mortgages/loans\":4}\n",
    "#Replace Topics with Topic Names\n",
    "df_clean[\"Topic\"] = df_clean[\"Topic\"].map(Topic_names)"
   ]
  },
  {
   "cell_type": "code",
   "execution_count": 55,
   "metadata": {
    "id": "BWIgJUkQJrGH"
   },
   "outputs": [
    {
     "data": {
      "text/plain": [
       "(21072, 5)"
      ]
     },
     "execution_count": 55,
     "metadata": {},
     "output_type": "execute_result"
    }
   ],
   "source": [
    "# Checking the Shape\n",
    "df_clean.shape"
   ]
  },
  {
   "cell_type": "code",
   "execution_count": 56,
   "metadata": {
    "id": "Xx-FrbkWJrGH"
   },
   "outputs": [],
   "source": [
    "#Keep the columns\"complaint_what_happened\" & \"Topic\" only in the new dataframe --> training_data\n",
    "training_data = df_clean[[\"complaint_what_happened\", \"Topic\"]]"
   ]
  },
  {
   "cell_type": "code",
   "execution_count": 57,
   "metadata": {
    "id": "lVg2pa12JrGI"
   },
   "outputs": [
    {
     "data": {
      "text/html": [
       "<div>\n",
       "<style scoped>\n",
       "    .dataframe tbody tr th:only-of-type {\n",
       "        vertical-align: middle;\n",
       "    }\n",
       "\n",
       "    .dataframe tbody tr th {\n",
       "        vertical-align: top;\n",
       "    }\n",
       "\n",
       "    .dataframe thead th {\n",
       "        text-align: right;\n",
       "    }\n",
       "</style>\n",
       "<table border=\"1\" class=\"dataframe\">\n",
       "  <thead>\n",
       "    <tr style=\"text-align: right;\">\n",
       "      <th></th>\n",
       "      <th>complaint_what_happened</th>\n",
       "      <th>Topic</th>\n",
       "    </tr>\n",
       "  </thead>\n",
       "  <tbody>\n",
       "    <tr>\n",
       "      <th>1</th>\n",
       "      <td>good morning my name is xxxx xxxx and i apprec...</td>\n",
       "      <td>0</td>\n",
       "    </tr>\n",
       "    <tr>\n",
       "      <th>2</th>\n",
       "      <td>i upgraded my xxxx xxxx card in  and was told ...</td>\n",
       "      <td>1</td>\n",
       "    </tr>\n",
       "    <tr>\n",
       "      <th>10</th>\n",
       "      <td>chase card was reported on  however fraudulent...</td>\n",
       "      <td>1</td>\n",
       "    </tr>\n",
       "    <tr>\n",
       "      <th>11</th>\n",
       "      <td>on  while trying to book a xxxx  xxxx  ticket ...</td>\n",
       "      <td>1</td>\n",
       "    </tr>\n",
       "    <tr>\n",
       "      <th>14</th>\n",
       "      <td>my grand son give me check for  i deposit it i...</td>\n",
       "      <td>0</td>\n",
       "    </tr>\n",
       "    <tr>\n",
       "      <th>...</th>\n",
       "      <td>...</td>\n",
       "      <td>...</td>\n",
       "    </tr>\n",
       "    <tr>\n",
       "      <th>78303</th>\n",
       "      <td>after being a chase card customer for well ove...</td>\n",
       "      <td>1</td>\n",
       "    </tr>\n",
       "    <tr>\n",
       "      <th>78309</th>\n",
       "      <td>on wednesday xxxxxxxx i called chas my xxxx xx...</td>\n",
       "      <td>3</td>\n",
       "    </tr>\n",
       "    <tr>\n",
       "      <th>78310</th>\n",
       "      <td>i am not familiar with xxxx pay and did not un...</td>\n",
       "      <td>3</td>\n",
       "    </tr>\n",
       "    <tr>\n",
       "      <th>78311</th>\n",
       "      <td>i have had flawless credit for  yrs ive had ch...</td>\n",
       "      <td>2</td>\n",
       "    </tr>\n",
       "    <tr>\n",
       "      <th>78312</th>\n",
       "      <td>roughly  years ago i closed out my accounts wi...</td>\n",
       "      <td>2</td>\n",
       "    </tr>\n",
       "  </tbody>\n",
       "</table>\n",
       "<p>21072 rows × 2 columns</p>\n",
       "</div>"
      ],
      "text/plain": [
       "                                 complaint_what_happened  Topic\n",
       "1      good morning my name is xxxx xxxx and i apprec...      0\n",
       "2      i upgraded my xxxx xxxx card in  and was told ...      1\n",
       "10     chase card was reported on  however fraudulent...      1\n",
       "11     on  while trying to book a xxxx  xxxx  ticket ...      1\n",
       "14     my grand son give me check for  i deposit it i...      0\n",
       "...                                                  ...    ...\n",
       "78303  after being a chase card customer for well ove...      1\n",
       "78309  on wednesday xxxxxxxx i called chas my xxxx xx...      3\n",
       "78310  i am not familiar with xxxx pay and did not un...      3\n",
       "78311  i have had flawless credit for  yrs ive had ch...      2\n",
       "78312  roughly  years ago i closed out my accounts wi...      2\n",
       "\n",
       "[21072 rows x 2 columns]"
      ]
     },
     "execution_count": 57,
     "metadata": {},
     "output_type": "execute_result"
    }
   ],
   "source": [
    "training_data"
   ]
  },
  {
   "cell_type": "markdown",
   "metadata": {
    "id": "280Vbqk-7a8M"
   },
   "source": [
    "#### Apply the supervised models on the training data created. In this process, you have to do the following:\n",
    "* Create the vector counts using Count Vectoriser\n",
    "* Transform the word vecotr to tf-idf\n",
    "* Create the train & test data using the train_test_split on the tf-idf & topics\n"
   ]
  },
  {
   "cell_type": "code",
   "execution_count": 58,
   "metadata": {
    "id": "oUlQpgkzJrGI"
   },
   "outputs": [],
   "source": [
    "#Write your code to get the Vector count\n",
    "vect = CountVectorizer()\n",
    "X_train_cnt = vect.fit_transform(training_data[\"complaint_what_happened\"])\n",
    "\n",
    "#Saving the word Vector\n",
    "pickle.dump(vect.vocabulary_, open(\"count_vector.pk1\", \"wb\"))\n"
   ]
  },
  {
   "cell_type": "code",
   "execution_count": 59,
   "metadata": {},
   "outputs": [],
   "source": [
    "#Write your code here to transform the word vector to tf-idf\n",
    "\n",
    "tfidf_transformer = TfidfTransformer()\n",
    "X_train_tfidf = tfidf_transformer.fit_transform(X_train_cnt)\n",
    "\n",
    "# Save tfidf\n",
    "pickle.dump(tfidf_transformer, open(\"tfidf.pk1\", \"wb\"))"
   ]
  },
  {
   "cell_type": "markdown",
   "metadata": {
    "id": "uMU3vj6w-wqL"
   },
   "source": [
    "You have to try atleast 3 models on the train & test data from these options:\n",
    "* Logistic regression\n",
    "* Decision Tree\n",
    "* Random Forest\n",
    "* Naive Bayes (optional)\n",
    "\n",
    "**Using the required evaluation metrics judge the tried models and select the ones performing the best**"
   ]
  },
  {
   "cell_type": "markdown",
   "metadata": {
    "id": "udLHpPsZJrGI"
   },
   "source": [
    "## Logistic Regression"
   ]
  },
  {
   "cell_type": "code",
   "execution_count": 60,
   "metadata": {
    "id": "N2OznsObJrGP"
   },
   "outputs": [],
   "source": [
    "# Splitting the dataset into train and test dataset\n",
    "\n",
    "X_train, X_test, y_train, y_test = train_test_split(X_train_tfidf, training_data[\"Topic\"], test_size=0.25, random_state=42)"
   ]
  },
  {
   "cell_type": "code",
   "execution_count": 61,
   "metadata": {},
   "outputs": [],
   "source": [
    "lr = LogisticRegression(random_state = 42, solver=\"liblinear\").fit(X_train, y_train)"
   ]
  },
  {
   "cell_type": "code",
   "execution_count": 62,
   "metadata": {},
   "outputs": [
    {
     "data": {
      "text/plain": [
       "0.9164768413059985"
      ]
     },
     "execution_count": 62,
     "metadata": {},
     "output_type": "execute_result"
    }
   ],
   "source": [
    "# Getting the score of the base model\n",
    "\n",
    "lr.score(X_test, y_test)"
   ]
  },
  {
   "cell_type": "markdown",
   "metadata": {},
   "source": [
    "The accuracy with the base model is 91.64%"
   ]
  },
  {
   "cell_type": "markdown",
   "metadata": {},
   "source": [
    "### HyperParameter Tuning"
   ]
  },
  {
   "cell_type": "code",
   "execution_count": 63,
   "metadata": {},
   "outputs": [],
   "source": [
    "lr_grid = {\"C\": [100, 10, 5, 4, 3, 2, 1, 1.0, 0.1, 0.01],\n",
    "                \"solver\": [\"liblinear\"]}"
   ]
  },
  {
   "cell_type": "code",
   "execution_count": 64,
   "metadata": {},
   "outputs": [
    {
     "name": "stdout",
     "output_type": "stream",
     "text": [
      "Fitting 5 folds for each of 10 candidates, totalling 50 fits\n"
     ]
    },
    {
     "data": {
      "text/plain": [
       "GridSearchCV(cv=5, estimator=LogisticRegression(random_state=42), n_jobs=-1,\n",
       "             param_grid={'C': [100, 10, 5, 4, 3, 2, 1, 1.0, 0.1, 0.01],\n",
       "                         'solver': ['liblinear']},\n",
       "             verbose=True)"
      ]
     },
     "execution_count": 64,
     "metadata": {},
     "output_type": "execute_result"
    }
   ],
   "source": [
    "# Setup grid hyperparameter search for LogisticRegression\n",
    "lr_hpt = GridSearchCV(LogisticRegression(random_state=42),\n",
    "                                param_grid=lr_grid,\n",
    "                                cv=5,\n",
    "                                verbose=True,\n",
    "                                n_jobs=-1)\n",
    "\n",
    "# Fit random hyperparameter search model\n",
    "lr_hpt.fit(X_train, y_train)"
   ]
  },
  {
   "cell_type": "code",
   "execution_count": 65,
   "metadata": {},
   "outputs": [
    {
     "data": {
      "text/plain": [
       "{'C': 4, 'solver': 'liblinear'}"
      ]
     },
     "execution_count": 65,
     "metadata": {},
     "output_type": "execute_result"
    }
   ],
   "source": [
    "# Checking best parameters\n",
    "\n",
    "lr_hpt.best_params_"
   ]
  },
  {
   "cell_type": "code",
   "execution_count": 66,
   "metadata": {},
   "outputs": [
    {
     "data": {
      "text/plain": [
       "0.9198936977980258"
      ]
     },
     "execution_count": 66,
     "metadata": {},
     "output_type": "execute_result"
    }
   ],
   "source": [
    "# Evaluating the tuned model\n",
    "\n",
    "lr_hpt.score(X_test, y_test)"
   ]
  },
  {
   "cell_type": "markdown",
   "metadata": {},
   "source": [
    "The accuracy of the tuned Logistic Regression Model turned out to be 92.10% which is an improvement over the base model's accuracy of 91.57%"
   ]
  },
  {
   "cell_type": "code",
   "execution_count": 67,
   "metadata": {},
   "outputs": [],
   "source": [
    "# Saving Logistic Regression Model\n",
    "pickle.dump(lr_hpt, open(\"lr_model.pk1\", \"wb\"))"
   ]
  },
  {
   "cell_type": "markdown",
   "metadata": {},
   "source": [
    "### Model Evaluation"
   ]
  },
  {
   "cell_type": "code",
   "execution_count": 68,
   "metadata": {},
   "outputs": [],
   "source": [
    "# Load pickled model\n",
    "\n",
    "lr_model = pickle.load(open(\"lr_model.pk1\", \"rb\"))"
   ]
  },
  {
   "cell_type": "code",
   "execution_count": 69,
   "metadata": {},
   "outputs": [],
   "source": [
    "# Making predictions on test data\n",
    "\n",
    "y_pred = lr_model.predict(X_test)"
   ]
  },
  {
   "cell_type": "code",
   "execution_count": 70,
   "metadata": {},
   "outputs": [
    {
     "name": "stdout",
     "output_type": "stream",
     "text": [
      "[[1239   21    8   35   15]\n",
      " [  22 1195    8   42    8]\n",
      " [  10   17  497   13   19]\n",
      " [  65   45    5 1071   20]\n",
      " [  22   23   11   13  844]]\n"
     ]
    }
   ],
   "source": [
    "# Printing Confusion Matrix\n",
    "\n",
    "print(confusion_matrix(y_test, y_pred))"
   ]
  },
  {
   "cell_type": "code",
   "execution_count": 73,
   "metadata": {},
   "outputs": [
    {
     "data": {
      "image/png": "[encoded data removed]",
      "text/plain": [
       "<Figure size 576x432 with 1 Axes>"
      ]
     },
     "metadata": {},
     "output_type": "display_data"
    }
   ],
   "source": [
    "# Visualizing Confusion Matrix with heatmap\n",
    "\n",
    "confusion_mat = confusion_matrix(y_test, y_pred)\n",
    "\n",
    "plt.figure(figsize=(8, 6))\n",
    "sns.heatmap(confusion_mat, annot=True, cbar=False, cmap=\"Blues\", fmt=\".1f\", linewidths=0.5, square=True)\n",
    "plt.xlabel(\"Actual Label\")\n",
    "plt.ylabel(\"Predicted Label\")\n",
    "plt.title(\"Confusion Matrix Heatmap\")\n",
    "plt.xticks(rotation=45)\n",
    "plt.yticks(rotation=0)\n",
    "plt.show()"
   ]
  },
  {
   "cell_type": "code",
   "execution_count": 74,
   "metadata": {},
   "outputs": [],
   "source": [
    "# Creating the target list\n",
    "target = [\"Bank account services\", \"Credit card / Prepaid card\", \"Others\", \"Theft/Dispute reporting\", \"Mortgages/loans\"]"
   ]
  },
  {
   "cell_type": "code",
   "execution_count": 75,
   "metadata": {},
   "outputs": [
    {
     "name": "stdout",
     "output_type": "stream",
     "text": [
      "                            precision    recall  f1-score   support\n",
      "\n",
      "     Bank account services       0.91      0.94      0.93      1318\n",
      "Credit card / Prepaid card       0.92      0.94      0.93      1275\n",
      "                    Others       0.94      0.89      0.92       556\n",
      "   Theft/Dispute reporting       0.91      0.89      0.90      1206\n",
      "           Mortgages/loans       0.93      0.92      0.93       913\n",
      "\n",
      "                  accuracy                           0.92      5268\n",
      "                 macro avg       0.92      0.92      0.92      5268\n",
      "              weighted avg       0.92      0.92      0.92      5268\n",
      "\n"
     ]
    }
   ],
   "source": [
    "# Printing Classification Report\n",
    "print(classification_report(y_test, y_pred, target_names = target))"
   ]
  },
  {
   "cell_type": "markdown",
   "metadata": {},
   "source": [
    "1. Overall accuracy:- 92%. \n",
    "2. Precision:- 92%\n",
    "3. Recall:- 92%\n",
    "\n",
    "Therefore we can consider this as a Decent Model"
   ]
  },
  {
   "cell_type": "markdown",
   "metadata": {},
   "source": [
    "## Decision Tree Classifier"
   ]
  },
  {
   "cell_type": "code",
   "execution_count": 76,
   "metadata": {},
   "outputs": [],
   "source": [
    "# Splitting the dataset into train and test dataset\n",
    "X_train, X_test, y_train, y_test = train_test_split(X_train_tfidf, training_data[\"Topic\"], test_size=0.25, random_state=42)"
   ]
  },
  {
   "cell_type": "code",
   "execution_count": 77,
   "metadata": {},
   "outputs": [],
   "source": [
    "#Fitting on train data\n",
    "dt = DecisionTreeClassifier(random_state=42).fit(X_train, y_train)"
   ]
  },
  {
   "cell_type": "code",
   "execution_count": 78,
   "metadata": {},
   "outputs": [
    {
     "data": {
      "text/plain": [
       "0.7820804859529233"
      ]
     },
     "execution_count": 78,
     "metadata": {},
     "output_type": "execute_result"
    }
   ],
   "source": [
    "# Getting the score of the base model\n",
    "dt.score(X_test, y_test)"
   ]
  },
  {
   "cell_type": "markdown",
   "metadata": {},
   "source": [
    "A base Decision Tree gives an accuracy of approximately 78.21%"
   ]
  },
  {
   "cell_type": "markdown",
   "metadata": {},
   "source": [
    "### HyperParameter Tuning"
   ]
  },
  {
   "cell_type": "code",
   "execution_count": 79,
   "metadata": {},
   "outputs": [],
   "source": [
    "dt_grid = {\"max_depth\": [3, 5, 10],\n",
    "           \"min_samples_split\": np.arange(2, 20, 2),\n",
    "           \"min_samples_leaf\": np.arange(1, 20, 2)}"
   ]
  },
  {
   "cell_type": "code",
   "execution_count": 80,
   "metadata": {},
   "outputs": [
    {
     "name": "stdout",
     "output_type": "stream",
     "text": [
      "Fitting 5 folds for each of 270 candidates, totalling 1350 fits\n"
     ]
    },
    {
     "data": {
      "text/plain": [
       "GridSearchCV(cv=5, estimator=DecisionTreeClassifier(random_state=42), n_jobs=-1,\n",
       "             param_grid={'max_depth': [3, 5, 10],\n",
       "                         'min_samples_leaf': array([ 1,  3,  5,  7,  9, 11, 13, 15, 17, 19]),\n",
       "                         'min_samples_split': array([ 2,  4,  6,  8, 10, 12, 14, 16, 18])},\n",
       "             verbose=True)"
      ]
     },
     "execution_count": 80,
     "metadata": {},
     "output_type": "execute_result"
    }
   ],
   "source": [
    "# Setup grid hyperparameter search for Decision Tree Classifier\n",
    "dt_hpt = GridSearchCV(DecisionTreeClassifier(random_state=42),\n",
    "                                param_grid=dt_grid,\n",
    "                                cv=5,\n",
    "                                verbose=True,\n",
    "                                n_jobs=-1)\n",
    "\n",
    "# Fit random hyperparameter search model\n",
    "dt_hpt.fit(X_train, y_train)"
   ]
  },
  {
   "cell_type": "code",
   "execution_count": 81,
   "metadata": {},
   "outputs": [
    {
     "data": {
      "text/plain": [
       "{'max_depth': 10, 'min_samples_leaf': 13, 'min_samples_split': 2}"
      ]
     },
     "execution_count": 81,
     "metadata": {},
     "output_type": "execute_result"
    }
   ],
   "source": [
    "# Checking best parameters\n",
    "dt_hpt.best_params_"
   ]
  },
  {
   "cell_type": "code",
   "execution_count": 82,
   "metadata": {},
   "outputs": [
    {
     "data": {
      "text/plain": [
       "0.7731586940015186"
      ]
     },
     "execution_count": 82,
     "metadata": {},
     "output_type": "execute_result"
    }
   ],
   "source": [
    "# Evaluating the tuned model\n",
    "dt_hpt.score(X_test, y_test)"
   ]
  },
  {
   "cell_type": "markdown",
   "metadata": {},
   "source": [
    "1. Tuned Decision Tree Accuracy = 77.31%\n",
    "2. Base Decision Tree Accuracy = 78.21%\n",
    "The tuned decision tree accuracy is lesser than than the base decision tree accuracy"
   ]
  },
  {
   "cell_type": "code",
   "execution_count": 83,
   "metadata": {},
   "outputs": [],
   "source": [
    "# Saving Decision Tree Model\n",
    "pickle.dump(dt_hpt, open(\"dt_model.pk1\", \"wb\"))"
   ]
  },
  {
   "cell_type": "markdown",
   "metadata": {},
   "source": [
    "### Model Evaluation"
   ]
  },
  {
   "cell_type": "code",
   "execution_count": 84,
   "metadata": {},
   "outputs": [],
   "source": [
    "# Load pickled model\n",
    "dt_model = pickle.load(open(\"dt_model.pk1\", \"rb\"))"
   ]
  },
  {
   "cell_type": "code",
   "execution_count": 85,
   "metadata": {},
   "outputs": [],
   "source": [
    "# Making predictions on test data\n",
    "y_pred = dt_model.predict(X_test)"
   ]
  },
  {
   "cell_type": "code",
   "execution_count": 86,
   "metadata": {},
   "outputs": [
    {
     "name": "stdout",
     "output_type": "stream",
     "text": [
      "[[1054   66   29   65  104]\n",
      " [  47 1048   25   80   75]\n",
      " [  35   38  430   16   37]\n",
      " [ 152  132   24  746  152]\n",
      " [  45   24   27   22  795]]\n"
     ]
    }
   ],
   "source": [
    "# Printing Confusion Matrix\n",
    "print(confusion_matrix(y_test, y_pred))"
   ]
  },
  {
   "cell_type": "code",
   "execution_count": 88,
   "metadata": {},
   "outputs": [
    {
     "data": {
      "image/png": "[encoded data removed]",
      "text/plain": [
       "<Figure size 576x432 with 1 Axes>"
      ]
     },
     "metadata": {},
     "output_type": "display_data"
    }
   ],
   "source": [
    "# Visualizing Confusion Matrix with heatmap\n",
    "\n",
    "confusion_mat = confusion_matrix(y_test, y_pred)\n",
    "\n",
    "plt.figure(figsize=(8, 6))\n",
    "sns.heatmap(confusion_mat, annot=True, cbar=False, cmap=\"Greens\", fmt=\".1f\", linewidths=0.5, square=True)\n",
    "plt.xlabel(\"Actual Label\")\n",
    "plt.ylabel(\"Predicted Label\")\n",
    "plt.title(\"Confusion Matrix Heatmap\")\n",
    "plt.xticks(rotation=45)\n",
    "plt.yticks(rotation=0)\n",
    "plt.show()"
   ]
  },
  {
   "cell_type": "code",
   "execution_count": 89,
   "metadata": {},
   "outputs": [],
   "source": [
    "# target data\n",
    "target = [\"Bank account services\", \"Credit card / Prepaid card\", \"Others\", \"Theft/Dispute reporting\", \"Mortgages/loans\"]"
   ]
  },
  {
   "cell_type": "code",
   "execution_count": 90,
   "metadata": {},
   "outputs": [
    {
     "name": "stdout",
     "output_type": "stream",
     "text": [
      "                            precision    recall  f1-score   support\n",
      "\n",
      "     Bank account services       0.79      0.80      0.80      1318\n",
      "Credit card / Prepaid card       0.80      0.82      0.81      1275\n",
      "                    Others       0.80      0.77      0.79       556\n",
      "   Theft/Dispute reporting       0.80      0.62      0.70      1206\n",
      "           Mortgages/loans       0.68      0.87      0.77       913\n",
      "\n",
      "                  accuracy                           0.77      5268\n",
      "                 macro avg       0.78      0.78      0.77      5268\n",
      "              weighted avg       0.78      0.77      0.77      5268\n",
      "\n"
     ]
    }
   ],
   "source": [
    "# Printing the Classification Report\n",
    "print(classification_report(y_test, y_pred, target_names = target))"
   ]
  },
  {
   "cell_type": "markdown",
   "metadata": {},
   "source": [
    "1. Overall accuracy:- 77%. \n",
    "2. Precision:- 78%\n",
    "3. Recall:- 77%\n",
    "\n",
    "The overall accuracy of this mode at 77% is very poor compared to the Logistic Regression model, which has an accuracy of 92%."
   ]
  },
  {
   "cell_type": "markdown",
   "metadata": {},
   "source": [
    "## Random Forest Classifier"
   ]
  },
  {
   "cell_type": "code",
   "execution_count": 91,
   "metadata": {},
   "outputs": [],
   "source": [
    "# Splitting Train and Test datasets\n",
    "X_train, X_test, y_train, y_test = train_test_split(X_train_tfidf, training_data[\"Topic\"], test_size=0.25, random_state=42)"
   ]
  },
  {
   "cell_type": "code",
   "execution_count": 92,
   "metadata": {},
   "outputs": [],
   "source": [
    "# Fitting to train data\n",
    "rf = RandomForestClassifier(random_state=42).fit(X_train, y_train)"
   ]
  },
  {
   "cell_type": "code",
   "execution_count": 93,
   "metadata": {},
   "outputs": [
    {
     "data": {
      "text/plain": [
       "0.8132118451025057"
      ]
     },
     "execution_count": 93,
     "metadata": {},
     "output_type": "execute_result"
    }
   ],
   "source": [
    "# Getting the score of the base model\n",
    "rf.score(X_test, y_test)"
   ]
  },
  {
   "cell_type": "markdown",
   "metadata": {},
   "source": [
    "The Base Random Forest model has an accuracy of 81.32%"
   ]
  },
  {
   "cell_type": "markdown",
   "metadata": {},
   "source": [
    "### HyperParameter Tuning "
   ]
  },
  {
   "cell_type": "code",
   "execution_count": 94,
   "metadata": {},
   "outputs": [],
   "source": [
    "rf_grid = {\"n_estimators\": np.arange(10, 1000, 50),\n",
    "           \"max_depth\": [3, 5, 10],\n",
    "           \"min_samples_split\": np.arange(2, 20, 2),\n",
    "           \"min_samples_leaf\": np.arange(1, 20, 2)}"
   ]
  },
  {
   "cell_type": "code",
   "execution_count": 95,
   "metadata": {},
   "outputs": [
    {
     "name": "stdout",
     "output_type": "stream",
     "text": [
      "Fitting 5 folds for each of 10 candidates, totalling 50 fits\n"
     ]
    },
    {
     "data": {
      "text/plain": [
       "RandomizedSearchCV(cv=5, estimator=RandomForestClassifier(random_state=42),\n",
       "                   n_jobs=-1,\n",
       "                   param_distributions={'max_depth': [3, 5, 10],\n",
       "                                        'min_samples_leaf': array([ 1,  3,  5,  7,  9, 11, 13, 15, 17, 19]),\n",
       "                                        'min_samples_split': array([ 2,  4,  6,  8, 10, 12, 14, 16, 18]),\n",
       "                                        'n_estimators': array([ 10,  60, 110, 160, 210, 260, 310, 360, 410, 460, 510, 560, 610,\n",
       "       660, 710, 760, 810, 860, 910, 960])},\n",
       "                   verbose=True)"
      ]
     },
     "execution_count": 95,
     "metadata": {},
     "output_type": "execute_result"
    }
   ],
   "source": [
    "# Setup random hyperparameter search for Random Forest\n",
    "rf_hpt = RandomizedSearchCV(RandomForestClassifier(random_state=42),\n",
    "                                param_distributions=rf_grid,\n",
    "                                cv=5,\n",
    "                                verbose=True,\n",
    "                                n_jobs=-1)\n",
    "\n",
    "# Fit random hyperparameter search model\n",
    "rf_hpt.fit(X_train, y_train)"
   ]
  },
  {
   "cell_type": "code",
   "execution_count": 96,
   "metadata": {},
   "outputs": [
    {
     "data": {
      "text/plain": [
       "{'n_estimators': 760,\n",
       " 'min_samples_split': 2,\n",
       " 'min_samples_leaf': 3,\n",
       " 'max_depth': 10}"
      ]
     },
     "execution_count": 96,
     "metadata": {},
     "output_type": "execute_result"
    }
   ],
   "source": [
    "# Checking best parameters\n",
    "rf_hpt.best_params_"
   ]
  },
  {
   "cell_type": "code",
   "execution_count": 97,
   "metadata": {},
   "outputs": [
    {
     "data": {
      "text/plain": [
       "0.7298785117691724"
      ]
     },
     "execution_count": 97,
     "metadata": {},
     "output_type": "execute_result"
    }
   ],
   "source": [
    "# Evaluating the tuned model\n",
    "rf_hpt.score(X_test, y_test)"
   ]
  },
  {
   "cell_type": "markdown",
   "metadata": {},
   "source": [
    "Randomized Search led to an accuracy of 72.98% in the tuned Decision Tree model. This can be further tuned to get a better accuracy."
   ]
  },
  {
   "cell_type": "code",
   "execution_count": 98,
   "metadata": {},
   "outputs": [],
   "source": [
    "rf_grid = {\"n_estimators\": [200, 260, 300],\n",
    "           \"max_depth\": [7, 10, 15],\n",
    "           \"min_samples_split\": [10, 12, 14],\n",
    "           \"min_samples_leaf\": [6, 8, 10]}"
   ]
  },
  {
   "cell_type": "code",
   "execution_count": 99,
   "metadata": {},
   "outputs": [
    {
     "name": "stdout",
     "output_type": "stream",
     "text": [
      "Fitting 5 folds for each of 81 candidates, totalling 405 fits\n"
     ]
    },
    {
     "data": {
      "text/plain": [
       "GridSearchCV(cv=5, estimator=RandomForestClassifier(random_state=42), n_jobs=-1,\n",
       "             param_grid={'max_depth': [7, 10, 15],\n",
       "                         'min_samples_leaf': [6, 8, 10],\n",
       "                         'min_samples_split': [10, 12, 14],\n",
       "                         'n_estimators': [200, 260, 300]},\n",
       "             verbose=True)"
      ]
     },
     "execution_count": 99,
     "metadata": {},
     "output_type": "execute_result"
    }
   ],
   "source": [
    "# Setup grid hyperparameter search for Random Forest Classifier\n",
    "rf_hpt = GridSearchCV(RandomForestClassifier(random_state=42),\n",
    "                                param_grid=rf_grid,\n",
    "                                cv=5,\n",
    "                                verbose=True,\n",
    "                                n_jobs=-1)\n",
    "\n",
    "# Fit random hyperparameter search model\n",
    "rf_hpt.fit(X_train, y_train)"
   ]
  },
  {
   "cell_type": "code",
   "execution_count": 100,
   "metadata": {},
   "outputs": [
    {
     "data": {
      "text/plain": [
       "{'max_depth': 15,\n",
       " 'min_samples_leaf': 6,\n",
       " 'min_samples_split': 14,\n",
       " 'n_estimators': 260}"
      ]
     },
     "execution_count": 100,
     "metadata": {},
     "output_type": "execute_result"
    }
   ],
   "source": [
    "# Checking best parameters\n",
    "rf_hpt.best_params_"
   ]
  },
  {
   "cell_type": "code",
   "execution_count": 101,
   "metadata": {},
   "outputs": [
    {
     "data": {
      "text/plain": [
       "0.753037205770691"
      ]
     },
     "execution_count": 101,
     "metadata": {},
     "output_type": "execute_result"
    }
   ],
   "source": [
    "# Evaluating the tuned model\n",
    "rf_hpt.score(X_test, y_test)"
   ]
  },
  {
   "cell_type": "markdown",
   "metadata": {},
   "source": [
    "After Grid Search, the Model gave an accuracy of 75.30%"
   ]
  },
  {
   "cell_type": "code",
   "execution_count": 102,
   "metadata": {},
   "outputs": [],
   "source": [
    "# Save Random Forest Model\n",
    "pickle.dump(rf_hpt, open(\"rf_model.pk1\", \"wb\"))"
   ]
  },
  {
   "cell_type": "markdown",
   "metadata": {},
   "source": [
    "### Model Evaluation"
   ]
  },
  {
   "cell_type": "code",
   "execution_count": 103,
   "metadata": {},
   "outputs": [],
   "source": [
    "# Load pickled model\n",
    "rf_model = pickle.load(open(\"rf_model.pk1\", \"rb\"))"
   ]
  },
  {
   "cell_type": "code",
   "execution_count": 104,
   "metadata": {},
   "outputs": [],
   "source": [
    "# Make predictions on test data\n",
    "y_pred = rf_model.predict(X_test)"
   ]
  },
  {
   "cell_type": "code",
   "execution_count": 105,
   "metadata": {},
   "outputs": [
    {
     "name": "stdout",
     "output_type": "stream",
     "text": [
      "[[1205   81    0   24    8]\n",
      " [  65 1098    0  102   10]\n",
      " [ 136  182   39   85  114]\n",
      " [ 175  131    1  890    9]\n",
      " [  64  101    0   13  735]]\n"
     ]
    }
   ],
   "source": [
    "# Print Confusion Matrix\n",
    "print(confusion_matrix(y_test, y_pred))"
   ]
  },
  {
   "cell_type": "code",
   "execution_count": 108,
   "metadata": {},
   "outputs": [
    {
     "data": {
      "image/png": "[encoded data removed]",
      "text/plain": [
       "<Figure size 576x432 with 1 Axes>"
      ]
     },
     "metadata": {},
     "output_type": "display_data"
    }
   ],
   "source": [
    "# Visualize Confusion Matrix with heatmap\n",
    "confusion_mat = confusion_matrix(y_test, y_pred)\n",
    "\n",
    "plt.figure(figsize=(8, 6))\n",
    "sns.heatmap(confusion_mat, annot=True, cbar=False, cmap=\"YlOrRd\", fmt=\".1f\", linewidths=0.5, square=True)\n",
    "plt.xlabel(\"Actual Label\")\n",
    "plt.ylabel(\"Predicted Label\")\n",
    "plt.title(\"Confusion Matrix Heatmap\")\n",
    "plt.xticks(rotation=45)\n",
    "plt.yticks(rotation=0)\n",
    "plt.show()"
   ]
  },
  {
   "cell_type": "code",
   "execution_count": 109,
   "metadata": {},
   "outputs": [],
   "source": [
    "# Target List\n",
    "target = [\"Bank account services\", \"Credit card / Prepaid card\", \"Others\", \"Theft/Dispute reporting\", \"Mortgages/loans\"]"
   ]
  },
  {
   "cell_type": "code",
   "execution_count": 110,
   "metadata": {},
   "outputs": [
    {
     "name": "stdout",
     "output_type": "stream",
     "text": [
      "                            precision    recall  f1-score   support\n",
      "\n",
      "     Bank account services       0.73      0.91      0.81      1318\n",
      "Credit card / Prepaid card       0.69      0.86      0.77      1275\n",
      "                    Others       0.97      0.07      0.13       556\n",
      "   Theft/Dispute reporting       0.80      0.74      0.77      1206\n",
      "           Mortgages/loans       0.84      0.81      0.82       913\n",
      "\n",
      "                  accuracy                           0.75      5268\n",
      "                 macro avg       0.81      0.68      0.66      5268\n",
      "              weighted avg       0.78      0.75      0.72      5268\n",
      "\n"
     ]
    }
   ],
   "source": [
    "# Print Classification Report\n",
    "print(classification_report(y_test, y_pred, target_names = target))"
   ]
  },
  {
   "cell_type": "markdown",
   "metadata": {},
   "source": [
    "1. Overall accuracy:- 75% \n",
    "2. Precision:- 78%\n",
    "3. Recall:- 75%\n",
    "\n",
    "The overall accuracy of this model at 75% is very poor compared to the Logistic Regression model, which has an accuracy of 92%. The model also overfits for 'Others' as the precision is 97%."
   ]
  },
  {
   "cell_type": "markdown",
   "metadata": {},
   "source": [
    "# Outcomes"
   ]
  },
  {
   "cell_type": "markdown",
   "metadata": {},
   "source": [
    "Three supervised models were created:-\n",
    "\n",
    "    1. Logistic Regression\n",
    "    2. Decision Trees\n",
    "    3. Random Forests"
   ]
  },
  {
   "cell_type": "markdown",
   "metadata": {},
   "source": [
    "# Results"
   ]
  },
  {
   "cell_type": "markdown",
   "metadata": {},
   "source": [
    "### Logistic Regression "
   ]
  },
  {
   "cell_type": "markdown",
   "metadata": {},
   "source": [
    "1. Overall accuracy:- 92%. \n",
    "2. Precision:- 92%\n",
    "3. Recall:- 92%"
   ]
  },
  {
   "cell_type": "markdown",
   "metadata": {},
   "source": [
    "### Decision Tree Classifier"
   ]
  },
  {
   "cell_type": "markdown",
   "metadata": {},
   "source": [
    "1. Overall accuracy:- 77%\n",
    "2. Precision:- 78%\n",
    "3. Recall:- 77%"
   ]
  },
  {
   "cell_type": "markdown",
   "metadata": {},
   "source": [
    "### Random Forest Classifier"
   ]
  },
  {
   "cell_type": "markdown",
   "metadata": {},
   "source": [
    "1. Overall accuracy:- 75% \n",
    "2. Precision:- 78%\n",
    "3. Recall:- 75%"
   ]
  },
  {
   "cell_type": "markdown",
   "metadata": {},
   "source": [
    "# Conclusion"
   ]
  },
  {
   "cell_type": "markdown",
   "metadata": {},
   "source": [
    "Logistic Regression, with an accuracy of 92%, with a Precision of 92% and a Recall of 92%, is the best when conpared to the other supervised models."
   ]
  }
 ],
 "metadata": {
  "colab": {
   "collapsed_sections": [
    "T9jD_6SeJrF3",
    "5DfCSbbmJrF4",
    "yYzD85nTJrGA",
    "piyLxzj6v07j",
    "280Vbqk-7a8M"
   ],
   "provenance": []
  },
  "kernelspec": {
   "display_name": "Python 3 (ipykernel)",
   "language": "python",
   "name": "python3"
  },
  "language_info": {
   "codemirror_mode": {
    "name": "ipython",
    "version": 3
   },
   "file_extension": ".py",
   "mimetype": "text/x-python",
   "name": "python",
   "nbconvert_exporter": "python",
   "pygments_lexer": "ipython3",
   "version": "3.9.12"
  }
 },
 "nbformat": 4,
 "nbformat_minor": 1
}
